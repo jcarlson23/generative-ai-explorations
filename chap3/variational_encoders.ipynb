{
 "cells": [
  {
   "cell_type": "markdown",
   "metadata": {},
   "source": [
    "### Variational Autoencoders\n",
    "\n",
    "\n",
    "The encoding is somewhat obvious, transformation into another representation. Decoding inverses the encoding. The **autoencoder** is a Neural Network trained to perform encoding and decoding. It's generative because it can interpolate, in between existing data points."
   ]
  },
  {
   "cell_type": "code",
   "execution_count": 82,
   "metadata": {},
   "outputs": [
    {
     "name": "stdout",
     "output_type": "stream",
     "text": [
      "The autoreload extension is already loaded. To reload it, use:\n",
      "  %reload_ext autoreload\n",
      "x_train size is  (60000, 32, 32, 1)\n",
      "x_test size is   (10000, 32, 32, 1)\n"
     ]
    }
   ],
   "source": [
    "%load_ext autoreload\n",
    "%autoreload 2\n",
    "\n",
    "import numpy as np\n",
    "import matplotlib.pyplot as plt\n",
    "\n",
    "from tensorflow.keras import layers, models, datasets, callbacks\n",
    "import tensorflow.keras.backend as K\n",
    "\n",
    "from utils import display\n",
    "\n",
    "(x_train, y_train), (x_test,y_test) = datasets.fashion_mnist.load_data()\n",
    "\n",
    "# we need to scale the pixel values (0-255) to (0-1) and pad (to go from 28x28 to 32x32)\n",
    "def preprocess(imgs):\n",
    "    imgs = imgs.astype(\"float32\") / 255.0\n",
    "    imgs = np.pad(imgs, ((0, 0), (2, 2), (2, 2)), constant_values=0.0)\n",
    "    imgs = np.expand_dims(imgs, -1)\n",
    "    return imgs\n",
    "\n",
    "x_train = preprocess(x_train)\n",
    "x_test  = preprocess(x_test)\n",
    "print(\"x_train size is \", x_train.shape)\n",
    "print(\"x_test size is  \", x_test.shape)"
   ]
  },
  {
   "cell_type": "markdown",
   "metadata": {},
   "source": [
    "An autoencoder neural network is comprised of two parts:\n",
    "* An encoder that compresses high-demiensional data (like an image) into a lower-dimensional embedding vector.\n",
    "* A decoder that decompresses the vecotr back to original domain.\n",
    "\n",
    "The lower-dimensional represenation is often called **latent space**.\n",
    "\n",
    "Let's start building the autoencoder, first **The Encoder**.\n"
   ]
  },
  {
   "cell_type": "code",
   "execution_count": 83,
   "metadata": {},
   "outputs": [
    {
     "name": "stdout",
     "output_type": "stream",
     "text": [
      "encoder_input shape is  (None, 32, 32, 1)\n",
      "The shape before flattening is  (4, 4, 128)\n",
      "x shape is  (None, 2048)\n",
      "encoder_output shape is  (None, 2)\n",
      "Model: \"model_21\"\n",
      "_________________________________________________________________\n",
      " Layer (type)                Output Shape              Param #   \n",
      "=================================================================\n",
      " encoder_input (InputLayer)  [(None, 32, 32, 1)]       0         \n",
      "                                                                 \n",
      " conv2d_33 (Conv2D)          (None, 16, 16, 32)        320       \n",
      "                                                                 \n",
      " conv2d_34 (Conv2D)          (None, 8, 8, 64)          18496     \n",
      "                                                                 \n",
      " conv2d_35 (Conv2D)          (None, 4, 4, 128)         73856     \n",
      "                                                                 \n",
      " flatten_11 (Flatten)        (None, 2048)              0         \n",
      "                                                                 \n",
      " encoder_output (Dense)      (None, 2)                 4098      \n",
      "                                                                 \n",
      "=================================================================\n",
      "Total params: 96770 (378.01 KB)\n",
      "Trainable params: 96770 (378.01 KB)\n",
      "Non-trainable params: 0 (0.00 Byte)\n",
      "_________________________________________________________________\n"
     ]
    }
   ],
   "source": [
    "\n",
    "IMAGE_SIZE = 32\n",
    "CHANNELS = 1\n",
    "BATCH_SIZE = 100\n",
    "BUFFER_SIZE = 1000\n",
    "VALIDATION_SPLIT = 0.2\n",
    "EMBEDDING_DIM = 2\n",
    "EPOCHS = 3\n",
    "\n",
    "encoder_input = layers.Input(\n",
    "    shape=(IMAGE_SIZE, IMAGE_SIZE, CHANNELS), name=\"encoder_input\"\n",
    ")\n",
    "print(\"encoder_input shape is \",encoder_input.shape)\n",
    "x = layers.Conv2D(32, (3, 3), strides = 2, activation = 'relu', padding=\"same\")(\n",
    "    encoder_input\n",
    ") \n",
    "x = layers.Conv2D(64, (3, 3), strides = 2, activation = 'relu', padding=\"same\")(x)\n",
    "x = layers.Conv2D(128, (3, 3), strides = 2, activation = 'relu', padding=\"same\")(x)\n",
    "shape_before_flattening = K.int_shape(x)[1:]\n",
    "print(\"The shape before flattening is \", shape_before_flattening)\n",
    "\n",
    "x = layers.Flatten()(x)\n",
    "print(\"x shape is \",x.shape)\n",
    "\n",
    "encoder_output = layers.Dense(EMBEDDING_DIM,name=\"encoder_output\")(x)\n",
    "print(\"encoder_output shape is \", encoder_output.shape)\n",
    "\n",
    "encoder = models.Model(encoder_input, encoder_output)\n",
    "encoder.summary()"
   ]
  },
  {
   "cell_type": "markdown",
   "metadata": {},
   "source": [
    "Going further? Experimenting with number of convolution layers and filters to understand\n",
    "how the architecture affects the overall number of model parameters and performance."
   ]
  },
  {
   "cell_type": "markdown",
   "metadata": {},
   "source": [
    "### Decoder \n",
    "Time to build the decoder, which is the mirror image of the encoder.... "
   ]
  },
  {
   "cell_type": "code",
   "execution_count": 84,
   "metadata": {},
   "outputs": [
    {
     "name": "stdout",
     "output_type": "stream",
     "text": [
      "Model: \"model_22\"\n",
      "_________________________________________________________________\n",
      " Layer (type)                Output Shape              Param #   \n",
      "=================================================================\n",
      " decoder_input (InputLayer)  [(None, 2)]               0         \n",
      "                                                                 \n",
      " dense_5 (Dense)             (None, 2048)              6144      \n",
      "                                                                 \n",
      " reshape_5 (Reshape)         (None, 4, 4, 128)         0         \n",
      "                                                                 \n",
      " conv2d_transpose_15 (Conv2  (None, 8, 8, 128)         147584    \n",
      " DTranspose)                                                     \n",
      "                                                                 \n",
      " conv2d_transpose_16 (Conv2  (None, 16, 16, 64)        73792     \n",
      " DTranspose)                                                     \n",
      "                                                                 \n",
      " conv2d_transpose_17 (Conv2  (None, 32, 32, 32)        18464     \n",
      " DTranspose)                                                     \n",
      "                                                                 \n",
      " decoder_output (Conv2D)     (None, 32, 32, 1)         289       \n",
      "                                                                 \n",
      "=================================================================\n",
      "Total params: 246273 (962.00 KB)\n",
      "Trainable params: 246273 (962.00 KB)\n",
      "Non-trainable params: 0 (0.00 Byte)\n",
      "_________________________________________________________________\n"
     ]
    }
   ],
   "source": [
    "decoder_input = layers.Input(shape=(EMBEDDING_DIM,), name=\"decoder_input\") \n",
    "x = layers.Dense(np.prod(shape_before_flattening))(decoder_input) \n",
    "x = layers.Reshape(shape_before_flattening)(x) \n",
    "x = layers.Conv2DTranspose(\n",
    "    128, (3, 3), strides=2, activation = 'relu', padding=\"same\"\n",
    ")(x) \n",
    "x = layers.Conv2DTranspose(\n",
    "    64, (3, 3), strides=2, activation = 'relu', padding=\"same\"\n",
    ")(x)\n",
    "x = layers.Conv2DTranspose(\n",
    "    32, (3, 3), strides=2, activation = 'relu', padding=\"same\"\n",
    ")(x)\n",
    "decoder_output = layers.Conv2D(\n",
    "    CHANNELS,\n",
    "    (3, 3),\n",
    "    strides = 1,\n",
    "    activation=\"sigmoid\",\n",
    "    padding=\"same\",\n",
    "    name=\"decoder_output\"\n",
    ")(x)\n",
    "\n",
    "decoder = models.Model(decoder_input, decoder_output) \n",
    "decoder.summary()"
   ]
  },
  {
   "cell_type": "code",
   "execution_count": 85,
   "metadata": {},
   "outputs": [
    {
     "name": "stdout",
     "output_type": "stream",
     "text": [
      "Model: \"model_23\"\n",
      "_________________________________________________________________\n",
      " Layer (type)                Output Shape              Param #   \n",
      "=================================================================\n",
      " encoder_input (InputLayer)  [(None, 32, 32, 1)]       0         \n",
      "                                                                 \n",
      " conv2d_33 (Conv2D)          (None, 16, 16, 32)        320       \n",
      "                                                                 \n",
      " conv2d_34 (Conv2D)          (None, 8, 8, 64)          18496     \n",
      "                                                                 \n",
      " conv2d_35 (Conv2D)          (None, 4, 4, 128)         73856     \n",
      "                                                                 \n",
      " flatten_11 (Flatten)        (None, 2048)              0         \n",
      "                                                                 \n",
      " encoder_output (Dense)      (None, 2)                 4098      \n",
      "                                                                 \n",
      " model_22 (Functional)       (None, 32, 32, 1)         246273    \n",
      "                                                                 \n",
      "=================================================================\n",
      "Total params: 343043 (1.31 MB)\n",
      "Trainable params: 343043 (1.31 MB)\n",
      "Non-trainable params: 0 (0.00 Byte)\n",
      "_________________________________________________________________\n"
     ]
    }
   ],
   "source": [
    "# Join the encoder and decoder to create the autoencoder\n",
    "autoencoder = models.Model(encoder_input, decoder(encoder_output))\n",
    "autoencoder.summary()\n",
    "autoencoder.compile(optimizer=\"adam\", loss=\"binary_crossentropy\")\n",
    "\n",
    "# Create a model save checkpoint\n",
    "model_checkpoint_callback = callbacks.ModelCheckpoint(\n",
    "    filepath=\"./checkpoint\",\n",
    "    save_weights_only=False,\n",
    "    save_freq=\"epoch\",\n",
    "    monitor=\"loss\",\n",
    "    mode=\"min\",\n",
    "    save_best_only=True,\n",
    "    verbose=0,\n",
    ")\n",
    "tensorboard_callback = callbacks.TensorBoard(log_dir=\"./logs\")\n"
   ]
  },
  {
   "cell_type": "code",
   "execution_count": 86,
   "metadata": {},
   "outputs": [
    {
     "name": "stdout",
     "output_type": "stream",
     "text": [
      "Epoch 1/3\n",
      "600/600 [==============================] - ETA: 0s - loss: 0.2919INFO:tensorflow:Assets written to: ./checkpoint/assets\n"
     ]
    },
    {
     "name": "stderr",
     "output_type": "stream",
     "text": [
      "INFO:tensorflow:Assets written to: ./checkpoint/assets\n"
     ]
    },
    {
     "name": "stdout",
     "output_type": "stream",
     "text": [
      "600/600 [==============================] - 29s 47ms/step - loss: 0.2919 - val_loss: 0.2607\n",
      "Epoch 2/3\n",
      "600/600 [==============================] - ETA: 0s - loss: 0.2572INFO:tensorflow:Assets written to: ./checkpoint/assets\n"
     ]
    },
    {
     "name": "stderr",
     "output_type": "stream",
     "text": [
      "INFO:tensorflow:Assets written to: ./checkpoint/assets\n"
     ]
    },
    {
     "name": "stdout",
     "output_type": "stream",
     "text": [
      "600/600 [==============================] - 27s 45ms/step - loss: 0.2572 - val_loss: 0.2561\n",
      "Epoch 3/3\n",
      "599/600 [============================>.] - ETA: 0s - loss: 0.2538INFO:tensorflow:Assets written to: ./checkpoint/assets\n"
     ]
    },
    {
     "name": "stderr",
     "output_type": "stream",
     "text": [
      "INFO:tensorflow:Assets written to: ./checkpoint/assets\n"
     ]
    },
    {
     "name": "stdout",
     "output_type": "stream",
     "text": [
      "600/600 [==============================] - 26s 43ms/step - loss: 0.2538 - val_loss: 0.2555\n"
     ]
    },
    {
     "data": {
      "text/plain": [
       "<keras.src.callbacks.History at 0x11eea3460>"
      ]
     },
     "execution_count": 86,
     "metadata": {},
     "output_type": "execute_result"
    }
   ],
   "source": [
    "autoencoder.fit(\n",
    "    x_train,\n",
    "    x_train,\n",
    "    epochs=EPOCHS,\n",
    "    batch_size=BATCH_SIZE,\n",
    "    shuffle=True,\n",
    "    validation_data=(x_test, x_test),\n",
    "    callbacks=[model_checkpoint_callback, tensorboard_callback],\n",
    ")"
   ]
  },
  {
   "cell_type": "code",
   "execution_count": 87,
   "metadata": {},
   "outputs": [
    {
     "name": "stdout",
     "output_type": "stream",
     "text": [
      "INFO:tensorflow:Assets written to: ./models/autoencoder/assets\n"
     ]
    },
    {
     "name": "stderr",
     "output_type": "stream",
     "text": [
      "INFO:tensorflow:Assets written to: ./models/autoencoder/assets\n"
     ]
    },
    {
     "name": "stdout",
     "output_type": "stream",
     "text": [
      "WARNING:tensorflow:Compiled the loaded model, but the compiled metrics have yet to be built. `model.compile_metrics` will be empty until you train or evaluate the model.\n"
     ]
    },
    {
     "name": "stderr",
     "output_type": "stream",
     "text": [
      "WARNING:tensorflow:Compiled the loaded model, but the compiled metrics have yet to be built. `model.compile_metrics` will be empty until you train or evaluate the model.\n"
     ]
    },
    {
     "name": "stdout",
     "output_type": "stream",
     "text": [
      "INFO:tensorflow:Assets written to: ./models/encoder/assets\n"
     ]
    },
    {
     "name": "stderr",
     "output_type": "stream",
     "text": [
      "INFO:tensorflow:Assets written to: ./models/encoder/assets\n"
     ]
    },
    {
     "name": "stdout",
     "output_type": "stream",
     "text": [
      "WARNING:tensorflow:Compiled the loaded model, but the compiled metrics have yet to be built. `model.compile_metrics` will be empty until you train or evaluate the model.\n"
     ]
    },
    {
     "name": "stderr",
     "output_type": "stream",
     "text": [
      "WARNING:tensorflow:Compiled the loaded model, but the compiled metrics have yet to be built. `model.compile_metrics` will be empty until you train or evaluate the model.\n"
     ]
    },
    {
     "name": "stdout",
     "output_type": "stream",
     "text": [
      "INFO:tensorflow:Assets written to: ./models/decoder/assets\n"
     ]
    },
    {
     "name": "stderr",
     "output_type": "stream",
     "text": [
      "INFO:tensorflow:Assets written to: ./models/decoder/assets\n"
     ]
    }
   ],
   "source": [
    "# save the models\n",
    "autoencoder.save(\"./models/autoencoder\")\n",
    "encoder.save(\"./models/encoder\")\n",
    "decoder.save(\"./models/decoder\")"
   ]
  },
  {
   "cell_type": "code",
   "execution_count": 88,
   "metadata": {},
   "outputs": [
    {
     "name": "stdout",
     "output_type": "stream",
     "text": [
      "157/157 [==============================] - 1s 8ms/step\n",
      "Example real clothing items\n"
     ]
    },
    {
     "data": {
      "image/png": "[encoded data removed]",
      "text/plain": [
       "<Figure size 2000x300 with 10 Axes>"
      ]
     },
     "metadata": {},
     "output_type": "display_data"
    },
    {
     "name": "stdout",
     "output_type": "stream",
     "text": [
      "Reconstructions\n"
     ]
    },
    {
     "data": {
      "image/png": "[encoded data removed]",
      "text/plain": [
       "<Figure size 2000x300 with 10 Axes>"
      ]
     },
     "metadata": {},
     "output_type": "display_data"
    }
   ],
   "source": [
    "# Reconstructing the images using the autoencoder\n",
    "n_to_predict = 5000\n",
    "example_images = x_test[:n_to_predict]\n",
    "example_labels = y_test[:n_to_predict]\n",
    "\n",
    "predictions = autoencoder.predict(example_images)\n",
    "\n",
    "print(\"Example real clothing items\")\n",
    "display(example_images)\n",
    "print(\"Reconstructions\")\n",
    "display(predictions)\n"
   ]
  },
  {
   "cell_type": "markdown",
   "metadata": {},
   "source": [
    "### Visualizing the latent space\n"
   ]
  },
  {
   "cell_type": "code",
   "execution_count": 89,
   "metadata": {},
   "outputs": [
    {
     "name": "stdout",
     "output_type": "stream",
     "text": [
      "157/157 [==============================] - 1s 9ms/step\n",
      "[[[[8.05953387e-05]\n",
      "   [3.88265562e-06]\n",
      "   [8.11062000e-06]\n",
      "   ...\n",
      "   [4.74191984e-06]\n",
      "   [3.37824372e-06]\n",
      "   [1.65469508e-04]]\n",
      "\n",
      "  [[3.62445712e-06]\n",
      "   [2.26649675e-07]\n",
      "   [8.16129443e-07]\n",
      "   ...\n",
      "   [7.08283039e-07]\n",
      "   [2.98063469e-07]\n",
      "   [4.51308042e-05]]\n",
      "\n",
      "  [[7.68782138e-06]\n",
      "   [7.20742378e-07]\n",
      "   [1.13795186e-05]\n",
      "   ...\n",
      "   [1.80529569e-05]\n",
      "   [5.16539012e-06]\n",
      "   [1.17920557e-04]]\n",
      "\n",
      "  ...\n",
      "\n",
      "  [[2.65136055e-06]\n",
      "   [3.31938793e-07]\n",
      "   [4.95595214e-06]\n",
      "   ...\n",
      "   [4.02171423e-07]\n",
      "   [7.35895540e-08]\n",
      "   [8.83342364e-06]]\n",
      "\n",
      "  [[6.14531109e-06]\n",
      "   [4.34828138e-07]\n",
      "   [5.16023510e-06]\n",
      "   ...\n",
      "   [1.55099457e-07]\n",
      "   [5.91438400e-08]\n",
      "   [5.79926518e-06]]\n",
      "\n",
      "  [[2.69399781e-04]\n",
      "   [6.17148326e-05]\n",
      "   [1.82536911e-04]\n",
      "   ...\n",
      "   [1.28622642e-05]\n",
      "   [6.13292332e-06]\n",
      "   [3.46106273e-04]]]\n",
      "\n",
      "\n",
      " [[[9.21283405e-09]\n",
      "   [2.46708244e-11]\n",
      "   [9.32883909e-11]\n",
      "   ...\n",
      "   [4.72246409e-10]\n",
      "   [6.07193115e-11]\n",
      "   [7.58877476e-08]]\n",
      "\n",
      "  [[8.91980864e-11]\n",
      "   [7.04879731e-13]\n",
      "   [9.44288744e-12]\n",
      "   ...\n",
      "   [1.86275328e-10]\n",
      "   [7.71135326e-12]\n",
      "   [2.14180282e-08]]\n",
      "\n",
      "  [[7.07800663e-09]\n",
      "   [4.18474089e-10]\n",
      "   [7.62312737e-08]\n",
      "   ...\n",
      "   [1.89820312e-05]\n",
      "   [1.39700106e-07]\n",
      "   [2.05458218e-06]]\n",
      "\n",
      "  ...\n",
      "\n",
      "  [[7.94208120e-07]\n",
      "   [3.75082408e-07]\n",
      "   [9.48875750e-05]\n",
      "   ...\n",
      "   [1.34459900e-04]\n",
      "   [8.64002743e-07]\n",
      "   [1.65164386e-06]]\n",
      "\n",
      "  [[3.11183825e-08]\n",
      "   [2.23020757e-09]\n",
      "   [1.48615854e-07]\n",
      "   ...\n",
      "   [1.30456650e-08]\n",
      "   [1.40298592e-10]\n",
      "   [1.81536510e-08]]\n",
      "\n",
      "  [[2.65757785e-06]\n",
      "   [4.54064406e-07]\n",
      "   [2.19521121e-06]\n",
      "   ...\n",
      "   [1.60415524e-07]\n",
      "   [1.07554756e-08]\n",
      "   [2.25842405e-06]]]\n",
      "\n",
      "\n",
      " [[[2.52151396e-04]\n",
      "   [1.28945649e-05]\n",
      "   [1.30515637e-05]\n",
      "   ...\n",
      "   [3.99958765e-07]\n",
      "   [6.96460745e-07]\n",
      "   [5.47152995e-05]]\n",
      "\n",
      "  [[1.14511067e-05]\n",
      "   [6.39777966e-07]\n",
      "   [1.05332731e-06]\n",
      "   ...\n",
      "   [3.87831882e-08]\n",
      "   [8.11623195e-08]\n",
      "   [1.55469534e-05]]\n",
      "\n",
      "  [[2.06665409e-05]\n",
      "   [1.29673674e-06]\n",
      "   [5.10294285e-06]\n",
      "   ...\n",
      "   [1.14611817e-06]\n",
      "   [1.63576306e-06]\n",
      "   [5.73696525e-05]]\n",
      "\n",
      "  ...\n",
      "\n",
      "  [[6.46874526e-07]\n",
      "   [1.40840584e-08]\n",
      "   [2.02577999e-09]\n",
      "   ...\n",
      "   [2.46800635e-10]\n",
      "   [1.18428368e-07]\n",
      "   [1.98806320e-05]]\n",
      "\n",
      "  [[7.74357204e-07]\n",
      "   [2.25162218e-08]\n",
      "   [1.34754989e-08]\n",
      "   ...\n",
      "   [1.26402833e-09]\n",
      "   [1.42444847e-07]\n",
      "   [8.31014859e-06]]\n",
      "\n",
      "  [[9.74832001e-05]\n",
      "   [1.90012852e-05]\n",
      "   [8.20066998e-06]\n",
      "   ...\n",
      "   [3.03295906e-06]\n",
      "   [1.10619176e-05]\n",
      "   [6.39329432e-04]]]\n",
      "\n",
      "\n",
      " ...\n",
      "\n",
      "\n",
      " [[[3.60952777e-06]\n",
      "   [5.63098617e-08]\n",
      "   [1.18990791e-07]\n",
      "   ...\n",
      "   [8.82412934e-08]\n",
      "   [3.75352904e-08]\n",
      "   [7.35796812e-06]]\n",
      "\n",
      "  [[9.39013631e-08]\n",
      "   [2.56098209e-09]\n",
      "   [1.21954109e-08]\n",
      "   ...\n",
      "   [2.54578829e-08]\n",
      "   [5.17107690e-09]\n",
      "   [2.43085037e-06]]\n",
      "\n",
      "  [[7.53690188e-07]\n",
      "   [5.26361390e-08]\n",
      "   [1.49805044e-06]\n",
      "   ...\n",
      "   [3.39976395e-05]\n",
      "   [2.02944511e-06]\n",
      "   [3.21913540e-05]]\n",
      "\n",
      "  ...\n",
      "\n",
      "  [[1.07314536e-05]\n",
      "   [4.15696468e-06]\n",
      "   [2.36661203e-04]\n",
      "   ...\n",
      "   [9.59866593e-05]\n",
      "   [1.78927564e-06]\n",
      "   [1.05858462e-05]]\n",
      "\n",
      "  [[2.36329811e-06]\n",
      "   [2.22587886e-07]\n",
      "   [4.99027055e-06]\n",
      "   ...\n",
      "   [1.21856743e-07]\n",
      "   [7.05639902e-09]\n",
      "   [6.35824904e-07]]\n",
      "\n",
      "  [[8.12229191e-05]\n",
      "   [1.87612641e-05]\n",
      "   [5.91819044e-05]\n",
      "   ...\n",
      "   [2.57817715e-06]\n",
      "   [4.74585562e-07]\n",
      "   [4.35165020e-05]]]\n",
      "\n",
      "\n",
      " [[[3.38045927e-03]\n",
      "   [5.48047072e-04]\n",
      "   [8.25000869e-04]\n",
      "   ...\n",
      "   [1.43765385e-04]\n",
      "   [1.29641718e-04]\n",
      "   [1.97640341e-03]]\n",
      "\n",
      "  [[3.63474508e-04]\n",
      "   [6.01406573e-05]\n",
      "   [1.28596774e-04]\n",
      "   ...\n",
      "   [2.80046952e-05]\n",
      "   [1.52418443e-05]\n",
      "   [6.28347334e-04]]\n",
      "\n",
      "  [[3.06126603e-04]\n",
      "   [4.86183781e-05]\n",
      "   [2.51267746e-04]\n",
      "   ...\n",
      "   [1.04143888e-04]\n",
      "   [5.03220217e-05]\n",
      "   [7.64630444e-04]]\n",
      "\n",
      "  ...\n",
      "\n",
      "  [[6.96968391e-06]\n",
      "   [9.44537874e-07]\n",
      "   [9.41028429e-06]\n",
      "   ...\n",
      "   [1.83611269e-06]\n",
      "   [8.64588003e-07]\n",
      "   [7.71251434e-05]]\n",
      "\n",
      "  [[6.04546149e-05]\n",
      "   [8.25459028e-06]\n",
      "   [7.34273781e-05]\n",
      "   ...\n",
      "   [7.44227373e-06]\n",
      "   [4.07160042e-06]\n",
      "   [1.14102695e-04]]\n",
      "\n",
      "  [[2.03693565e-03]\n",
      "   [6.91462192e-04]\n",
      "   [2.03728373e-03]\n",
      "   ...\n",
      "   [3.03426088e-04]\n",
      "   [1.76284317e-04]\n",
      "   [3.03293369e-03]]]\n",
      "\n",
      "\n",
      " [[[7.04168750e-04]\n",
      "   [7.70910992e-05]\n",
      "   [1.57841816e-04]\n",
      "   ...\n",
      "   [3.57467470e-05]\n",
      "   [3.48484464e-05]\n",
      "   [8.70125310e-04]]\n",
      "\n",
      "  [[5.23399431e-05]\n",
      "   [6.39997870e-06]\n",
      "   [2.01848452e-05]\n",
      "   ...\n",
      "   [4.66472784e-06]\n",
      "   [2.96409689e-06]\n",
      "   [2.42087859e-04]]\n",
      "\n",
      "  [[5.83470501e-05]\n",
      "   [8.22005677e-06]\n",
      "   [8.19292545e-05]\n",
      "   ...\n",
      "   [2.09942264e-05]\n",
      "   [1.46656675e-05]\n",
      "   [3.47941706e-04]]\n",
      "\n",
      "  ...\n",
      "\n",
      "  [[1.84414830e-06]\n",
      "   [1.29929262e-07]\n",
      "   [7.63483968e-07]\n",
      "   ...\n",
      "   [9.85802107e-09]\n",
      "   [4.01863893e-08]\n",
      "   [1.73912158e-05]]\n",
      "\n",
      "  [[1.08864751e-05]\n",
      "   [8.43716975e-07]\n",
      "   [5.71850569e-06]\n",
      "   ...\n",
      "   [2.28378525e-07]\n",
      "   [4.41365358e-07]\n",
      "   [3.46685520e-05]]\n",
      "\n",
      "  [[5.54451603e-04]\n",
      "   [1.46597682e-04]\n",
      "   [3.51115275e-04]\n",
      "   ...\n",
      "   [4.90438542e-05]\n",
      "   [4.91558567e-05]\n",
      "   [1.52656902e-03]]]]\n"
     ]
    }
   ],
   "source": [
    "embeddings = encoder.predict(example_images)\n",
    "\n",
    "# Some examples of the embeddings\n",
    "print(embeddings[:10])\n",
    "\n"
   ]
  },
  {
   "cell_type": "code",
   "execution_count": null,
   "metadata": {},
   "outputs": [],
   "source": [
    "# Show the encoded points in 2D space\n",
    "figsize = 8\n",
    "\n",
    "plt.figure(figsize=(figsize, figsize))\n",
    "plt.scatter(embeddings[:, 0], embeddings[:, 1], c=\"black\", alpha=0.5, s=3)\n",
    "plt.show()\n",
    "\n",
    "# Colour the embeddings by their label (clothing type - see table)\n",
    "example_labels = y_test[:n_to_predict]\n",
    "print(\"example labels size is \", example_labels.shape)\n",
    "\n",
    "figsize = 8\n",
    "plt.figure(figsize=(figsize, figsize))\n",
    "plt.scatter(\n",
    "    embeddings[:, 0],\n",
    "    embeddings[:, 1],\n",
    "    cmap=\"rainbow\",\n",
    "    # c=example_labels,\n",
    "    alpha=0.8,\n",
    "    s=3,\n",
    ")\n",
    "plt.colorbar()\n",
    "plt.show()"
   ]
  },
  {
   "cell_type": "markdown",
   "metadata": {},
   "source": [
    "## Generate Images using the decoder"
   ]
  },
  {
   "cell_type": "code",
   "execution_count": null,
   "metadata": {},
   "outputs": [],
   "source": [
    "# Get the range of the existing embeddings\n",
    "mins, maxs = np.min(embeddings, axis=0), np.max(embeddings, axis=0)\n",
    "\n",
    "print(\"mins shape is \", mins.shape)\n",
    "print(\"maxs shape is \", maxs.shape)\n",
    "\n",
    "# Sample some points in the latent space\n",
    "grid_width, grid_height = (8, 4)\n",
    "print(\"size will be computed as %d by %d\" % (grid_height * grid_width, EMBEDDING_DIM))\n",
    "\n",
    "sample = np.random.uniform(\n",
    "    mins, maxs, size=(grid_width * grid_height, grid_width * grid_height, EMBEDDING_DIM)\n",
    ")\n",
    "\n",
    "# Decode the sampled points\n",
    "reconstructions = decoder.predict(sample)\n",
    "\n"
   ]
  }
 ],
 "metadata": {
  "kernelspec": {
   "display_name": "Python 3",
   "language": "python",
   "name": "python3"
  },
  "language_info": {
   "codemirror_mode": {
    "name": "ipython",
    "version": 3
   },
   "file_extension": ".py",
   "mimetype": "text/x-python",
   "name": "python",
   "nbconvert_exporter": "python",
   "pygments_lexer": "ipython3",
   "version": "3.9.18"
  }
 },
 "nbformat": 4,
 "nbformat_minor": 2
}
