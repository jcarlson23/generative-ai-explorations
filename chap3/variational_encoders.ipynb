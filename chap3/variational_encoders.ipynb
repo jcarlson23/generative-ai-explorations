{
 "cells": [
  {
   "cell_type": "markdown",
   "metadata": {},
   "source": [
    "### Variational Autoencoders\n",
    "\n",
    "\n",
    "The encoding is somewhat obvious, transformation into another representation. Decoding inverses the encoding. The **autoencoder** is a Neural Network trained to perform encoding and decoding. It's generative because it can interpolate, in between existing data points."
   ]
  },
  {
   "cell_type": "code",
   "execution_count": 79,
   "metadata": {},
   "outputs": [
    {
     "name": "stdout",
     "output_type": "stream",
     "text": [
      "The autoreload extension is already loaded. To reload it, use:\n",
      "  %reload_ext autoreload\n",
      "x_train size is  (60000, 32, 32, 1)\n",
      "x_test size is   (10000, 32, 32, 1)\n"
     ]
    }
   ],
   "source": [
    "%load_ext autoreload\n",
    "%autoreload 2\n",
    "\n",
    "import numpy as np\n",
    "import matplotlib.pyplot as plt\n",
    "\n",
    "from tensorflow.keras import layers, models, datasets, callbacks\n",
    "import tensorflow.keras.backend as K\n",
    "\n",
    "from utils import display\n",
    "\n",
    "(x_train, y_train), (x_test,y_test) = datasets.fashion_mnist.load_data()\n",
    "\n",
    "# we need to scale the pixel values (0-255) to (0-1) and pad (to go from 28x28 to 32x32)\n",
    "def preprocess(imgs):\n",
    "    imgs = imgs.astype(\"float32\") / 255.0\n",
    "    imgs = np.pad(imgs, ((0, 0), (2, 2), (2, 2)), constant_values=0.0)\n",
    "    imgs = np.expand_dims(imgs, -1)\n",
    "    return imgs\n",
    "\n",
    "x_train = preprocess(x_train)\n",
    "x_test  = preprocess(x_test)\n",
    "print(\"x_train size is \", x_train.shape)\n",
    "print(\"x_test size is  \", x_test.shape)"
   ]
  },
  {
   "cell_type": "markdown",
   "metadata": {},
   "source": [
    "An autoencoder neural network is comprised of two parts:\n",
    "* An encoder that compresses high-demiensional data (like an image) into a lower-dimensional embedding vector.\n",
    "* A decoder that decompresses the vecotr back to original domain.\n",
    "\n",
    "The lower-dimensional represenation is often called **latent space**.\n",
    "\n",
    "Let's start building the autoencoder, first **The Encoder**.\n"
   ]
  },
  {
   "cell_type": "code",
   "execution_count": 81,
   "metadata": {},
   "outputs": [
    {
     "name": "stdout",
     "output_type": "stream",
     "text": [
      "encoder_input shape is  (None, 32, 32, 1)\n",
      "The shape before flattening is  (4, 4, 128)\n",
      "x shape is  (None, 2048)\n",
      "encoder_output shape is  (None, 2)\n",
      "Model: \"model_20\"\n",
      "_________________________________________________________________\n",
      " Layer (type)                Output Shape              Param #   \n",
      "=================================================================\n",
      " encoder_input (InputLayer)  [(None, 32, 32, 1)]       0         \n",
      "                                                                 \n",
      " conv2d_30 (Conv2D)          (None, 16, 16, 32)        320       \n",
      "                                                                 \n",
      " conv2d_31 (Conv2D)          (None, 8, 8, 64)          18496     \n",
      "                                                                 \n",
      " conv2d_32 (Conv2D)          (None, 4, 4, 128)         73856     \n",
      "                                                                 \n",
      " flatten_10 (Flatten)        (None, 2048)              0         \n",
      "                                                                 \n",
      " encoder_output (Dense)      (None, 2)                 4098      \n",
      "                                                                 \n",
      "=================================================================\n",
      "Total params: 96770 (378.01 KB)\n",
      "Trainable params: 96770 (378.01 KB)\n",
      "Non-trainable params: 0 (0.00 Byte)\n",
      "_________________________________________________________________\n"
     ]
    }
   ],
   "source": [
    "\n",
    "IMAGE_SIZE = 32\n",
    "CHANNELS = 1\n",
    "BATCH_SIZE = 100\n",
    "BUFFER_SIZE = 1000\n",
    "VALIDATION_SPLIT = 0.2\n",
    "EMBEDDING_DIM = 2\n",
    "EPOCHS = 3\n",
    "\n",
    "encoder_input = layers.Input(\n",
    "    shape=(IMAGE_SIZE, IMAGE_SIZE, CHANNELS), name=\"encoder_input\"\n",
    ")\n",
    "print(\"encoder_input shape is \",encoder_input.shape)\n",
    "x = layers.Conv2D(32, (3, 3), strides = 2, activation = 'relu', padding=\"same\")(\n",
    "    encoder_input\n",
    ") \n",
    "x = layers.Conv2D(64, (3, 3), strides = 2, activation = 'relu', padding=\"same\")(x)\n",
    "x = layers.Conv2D(128, (3, 3), strides = 2, activation = 'relu', padding=\"same\")(x)\n",
    "shape_before_flattening = K.int_shape(x)[1:]\n",
    "print(\"The shape before flattening is \", shape_before_flattening)\n",
    "\n",
    "x = layers.Flatten()(x)\n",
    "print(\"x shape is \",x.shape)\n",
    "\n",
    "encoder_output = layers.Dense(EMBEDDING_DIM,name=\"encoder_output\")(x)\n",
    "print(\"encoder_output shape is \", encoder_output.shape)\n",
    "\n",
    "encoder = models.Model(encoder_input, encoder_output)\n",
    "encoder.summary()"
   ]
  },
  {
   "cell_type": "markdown",
   "metadata": {},
   "source": [
    "Going further? Experimenting with number of convolution layers and filters to understand\n",
    "how the architecture affects the overall number of model parameters and performance."
   ]
  },
  {
   "cell_type": "markdown",
   "metadata": {},
   "source": [
    "### Decoder \n",
    "Time to build the decoder, which is the mirror image of the encoder.... "
   ]
  },
  {
   "cell_type": "code",
   "execution_count": 72,
   "metadata": {},
   "outputs": [
    {
     "name": "stdout",
     "output_type": "stream",
     "text": [
      "Model: \"model_17\"\n",
      "_________________________________________________________________\n",
      " Layer (type)                Output Shape              Param #   \n",
      "=================================================================\n",
      " decoder_input (InputLayer)  [(None, 2)]               0         \n",
      "                                                                 \n",
      " dense_4 (Dense)             (None, 2048)              6144      \n",
      "                                                                 \n",
      " reshape_4 (Reshape)         (None, 4, 4, 128)         0         \n",
      "                                                                 \n",
      " conv2d_transpose_12 (Conv2  (None, 8, 8, 128)         147584    \n",
      " DTranspose)                                                     \n",
      "                                                                 \n",
      " conv2d_transpose_13 (Conv2  (None, 16, 16, 64)        73792     \n",
      " DTranspose)                                                     \n",
      "                                                                 \n",
      " conv2d_transpose_14 (Conv2  (None, 32, 32, 32)        18464     \n",
      " DTranspose)                                                     \n",
      "                                                                 \n",
      " decoder_output (Conv2D)     (None, 32, 32, 1)         289       \n",
      "                                                                 \n",
      "=================================================================\n",
      "Total params: 246273 (962.00 KB)\n",
      "Trainable params: 246273 (962.00 KB)\n",
      "Non-trainable params: 0 (0.00 Byte)\n",
      "_________________________________________________________________\n"
     ]
    }
   ],
   "source": [
    "decoder_input = layers.Input(shape=(EMBEDDING_DIM,), name=\"decoder_input\") \n",
    "x = layers.Dense(np.prod(shape_before_flattening))(decoder_input) \n",
    "x = layers.Reshape(shape_before_flattening)(x) \n",
    "x = layers.Conv2DTranspose(\n",
    "    128, (3, 3), strides=2, activation = 'relu', padding=\"same\"\n",
    ")(x) \n",
    "x = layers.Conv2DTranspose(\n",
    "    64, (3, 3), strides=2, activation = 'relu', padding=\"same\"\n",
    ")(x)\n",
    "x = layers.Conv2DTranspose(\n",
    "    32, (3, 3), strides=2, activation = 'relu', padding=\"same\"\n",
    ")(x)\n",
    "decoder_output = layers.Conv2D(\n",
    "    CHANNELS,\n",
    "    (3, 3),\n",
    "    strides = 1,\n",
    "    activation=\"sigmoid\",\n",
    "    padding=\"same\",\n",
    "    name=\"decoder_output\"\n",
    ")(x)\n",
    "\n",
    "decoder = models.Model(decoder_input, decoder_output) \n",
    "decoder.summary()"
   ]
  },
  {
   "cell_type": "code",
   "execution_count": 73,
   "metadata": {},
   "outputs": [
    {
     "name": "stdout",
     "output_type": "stream",
     "text": [
      "Model: \"model_18\"\n",
      "_________________________________________________________________\n",
      " Layer (type)                Output Shape              Param #   \n",
      "=================================================================\n",
      " encoder_input (InputLayer)  [(None, 32, 32, 1)]       0         \n",
      "                                                                 \n",
      " conv2d_24 (Conv2D)          (None, 16, 16, 32)        320       \n",
      "                                                                 \n",
      " conv2d_25 (Conv2D)          (None, 8, 8, 64)          18496     \n",
      "                                                                 \n",
      " conv2d_26 (Conv2D)          (None, 4, 4, 128)         73856     \n",
      "                                                                 \n",
      " flatten_8 (Flatten)         (None, 2048)              0         \n",
      "                                                                 \n",
      " encoder_output (Dense)      (None, 2)                 4098      \n",
      "                                                                 \n",
      " model_17 (Functional)       (None, 32, 32, 1)         246273    \n",
      "                                                                 \n",
      "=================================================================\n",
      "Total params: 343043 (1.31 MB)\n",
      "Trainable params: 343043 (1.31 MB)\n",
      "Non-trainable params: 0 (0.00 Byte)\n",
      "_________________________________________________________________\n"
     ]
    }
   ],
   "source": [
    "# Join the encoder and decoder to create the autoencoder\n",
    "autoencoder = models.Model(encoder_input, decoder(encoder_output))\n",
    "autoencoder.summary()\n",
    "autoencoder.compile(optimizer=\"adam\", loss=\"binary_crossentropy\")\n",
    "\n",
    "# Create a model save checkpoint\n",
    "model_checkpoint_callback = callbacks.ModelCheckpoint(\n",
    "    filepath=\"./checkpoint\",\n",
    "    save_weights_only=False,\n",
    "    save_freq=\"epoch\",\n",
    "    monitor=\"loss\",\n",
    "    mode=\"min\",\n",
    "    save_best_only=True,\n",
    "    verbose=0,\n",
    ")\n",
    "tensorboard_callback = callbacks.TensorBoard(log_dir=\"./logs\")\n"
   ]
  },
  {
   "cell_type": "code",
   "execution_count": 74,
   "metadata": {},
   "outputs": [
    {
     "name": "stdout",
     "output_type": "stream",
     "text": [
      "Epoch 1/3\n",
      "600/600 [==============================] - ETA: 0s - loss: 0.2904INFO:tensorflow:Assets written to: ./checkpoint/assets\n"
     ]
    },
    {
     "name": "stderr",
     "output_type": "stream",
     "text": [
      "INFO:tensorflow:Assets written to: ./checkpoint/assets\n"
     ]
    },
    {
     "name": "stdout",
     "output_type": "stream",
     "text": [
      "600/600 [==============================] - 28s 46ms/step - loss: 0.2904 - val_loss: 0.2609\n",
      "Epoch 2/3\n",
      "600/600 [==============================] - ETA: 0s - loss: 0.2576INFO:tensorflow:Assets written to: ./checkpoint/assets\n"
     ]
    },
    {
     "name": "stderr",
     "output_type": "stream",
     "text": [
      "INFO:tensorflow:Assets written to: ./checkpoint/assets\n"
     ]
    },
    {
     "name": "stdout",
     "output_type": "stream",
     "text": [
      "600/600 [==============================] - 27s 45ms/step - loss: 0.2576 - val_loss: 0.2571\n",
      "Epoch 3/3\n",
      "599/600 [============================>.] - ETA: 0s - loss: 0.2547INFO:tensorflow:Assets written to: ./checkpoint/assets\n"
     ]
    },
    {
     "name": "stderr",
     "output_type": "stream",
     "text": [
      "INFO:tensorflow:Assets written to: ./checkpoint/assets\n"
     ]
    },
    {
     "name": "stdout",
     "output_type": "stream",
     "text": [
      "600/600 [==============================] - 27s 45ms/step - loss: 0.2546 - val_loss: 0.2546\n"
     ]
    },
    {
     "data": {
      "text/plain": [
       "<keras.src.callbacks.History at 0x11f1ea1c0>"
      ]
     },
     "execution_count": 74,
     "metadata": {},
     "output_type": "execute_result"
    }
   ],
   "source": [
    "autoencoder.fit(\n",
    "    x_train,\n",
    "    x_train,\n",
    "    epochs=EPOCHS,\n",
    "    batch_size=BATCH_SIZE,\n",
    "    shuffle=True,\n",
    "    validation_data=(x_test, x_test),\n",
    "    callbacks=[model_checkpoint_callback, tensorboard_callback],\n",
    ")"
   ]
  },
  {
   "cell_type": "code",
   "execution_count": 75,
   "metadata": {},
   "outputs": [
    {
     "name": "stdout",
     "output_type": "stream",
     "text": [
      "INFO:tensorflow:Assets written to: ./models/autoencoder/assets\n"
     ]
    },
    {
     "name": "stderr",
     "output_type": "stream",
     "text": [
      "INFO:tensorflow:Assets written to: ./models/autoencoder/assets\n"
     ]
    },
    {
     "name": "stdout",
     "output_type": "stream",
     "text": [
      "WARNING:tensorflow:Compiled the loaded model, but the compiled metrics have yet to be built. `model.compile_metrics` will be empty until you train or evaluate the model.\n"
     ]
    },
    {
     "name": "stderr",
     "output_type": "stream",
     "text": [
      "WARNING:tensorflow:Compiled the loaded model, but the compiled metrics have yet to be built. `model.compile_metrics` will be empty until you train or evaluate the model.\n"
     ]
    },
    {
     "name": "stdout",
     "output_type": "stream",
     "text": [
      "INFO:tensorflow:Assets written to: ./models/encoder/assets\n"
     ]
    },
    {
     "name": "stderr",
     "output_type": "stream",
     "text": [
      "INFO:tensorflow:Assets written to: ./models/encoder/assets\n"
     ]
    },
    {
     "name": "stdout",
     "output_type": "stream",
     "text": [
      "WARNING:tensorflow:Compiled the loaded model, but the compiled metrics have yet to be built. `model.compile_metrics` will be empty until you train or evaluate the model.\n"
     ]
    },
    {
     "name": "stderr",
     "output_type": "stream",
     "text": [
      "WARNING:tensorflow:Compiled the loaded model, but the compiled metrics have yet to be built. `model.compile_metrics` will be empty until you train or evaluate the model.\n"
     ]
    },
    {
     "name": "stdout",
     "output_type": "stream",
     "text": [
      "INFO:tensorflow:Assets written to: ./models/decoder/assets\n"
     ]
    },
    {
     "name": "stderr",
     "output_type": "stream",
     "text": [
      "INFO:tensorflow:Assets written to: ./models/decoder/assets\n"
     ]
    }
   ],
   "source": [
    "# save the models\n",
    "autoencoder.save(\"./models/autoencoder\")\n",
    "encoder.save(\"./models/encoder\")\n",
    "decoder.save(\"./models/decoder\")"
   ]
  },
  {
   "cell_type": "code",
   "execution_count": 76,
   "metadata": {},
   "outputs": [
    {
     "name": "stdout",
     "output_type": "stream",
     "text": [
      "157/157 [==============================] - 1s 9ms/step\n",
      "Example real clothing items\n"
     ]
    },
    {
     "data": {
      "image/png": "[encoded data removed]",
      "text/plain": [
       "<Figure size 2000x300 with 10 Axes>"
      ]
     },
     "metadata": {},
     "output_type": "display_data"
    },
    {
     "name": "stdout",
     "output_type": "stream",
     "text": [
      "Reconstructions\n"
     ]
    },
    {
     "data": {
      "image/png": "[encoded data removed]",
      "text/plain": [
       "<Figure size 2000x300 with 10 Axes>"
      ]
     },
     "metadata": {},
     "output_type": "display_data"
    }
   ],
   "source": [
    "# Reconstructing the images using the autoencoder\n",
    "n_to_predict = 5000\n",
    "example_images = x_test[:n_to_predict]\n",
    "example_labels = y_test[:n_to_predict]\n",
    "\n",
    "predictions = autoencoder.predict(example_images)\n",
    "\n",
    "print(\"Example real clothing items\")\n",
    "display(example_images)\n",
    "print(\"Reconstructions\")\n",
    "display(predictions)\n"
   ]
  },
  {
   "cell_type": "markdown",
   "metadata": {},
   "source": [
    "### Visualizing the latent space\n"
   ]
  },
  {
   "cell_type": "code",
   "execution_count": 77,
   "metadata": {},
   "outputs": [
    {
     "name": "stdout",
     "output_type": "stream",
     "text": [
      "157/157 [==============================] - 1s 9ms/step\n",
      "[[[[1.98918002e-04]\n",
      "   [2.09413156e-05]\n",
      "   [5.04191485e-05]\n",
      "   ...\n",
      "   [6.38314350e-06]\n",
      "   [1.05927929e-05]\n",
      "   [4.17148112e-04]]\n",
      "\n",
      "  [[2.04438202e-05]\n",
      "   [3.19532046e-06]\n",
      "   [9.21183164e-06]\n",
      "   ...\n",
      "   [3.58018860e-06]\n",
      "   [1.82860379e-06]\n",
      "   [7.27118459e-05]]\n",
      "\n",
      "  [[4.04760940e-05]\n",
      "   [4.71847170e-06]\n",
      "   [2.50280227e-05]\n",
      "   ...\n",
      "   [4.95425520e-05]\n",
      "   [1.40121001e-05]\n",
      "   [2.34931911e-04]]\n",
      "\n",
      "  ...\n",
      "\n",
      "  [[5.27226302e-06]\n",
      "   [1.52141627e-06]\n",
      "   [4.19766620e-05]\n",
      "   ...\n",
      "   [1.92051698e-06]\n",
      "   [9.98189535e-07]\n",
      "   [3.90363966e-05]]\n",
      "\n",
      "  [[1.45517197e-05]\n",
      "   [1.69691430e-06]\n",
      "   [1.71720894e-05]\n",
      "   ...\n",
      "   [1.77803702e-06]\n",
      "   [9.96747417e-07]\n",
      "   [5.37920132e-05]]\n",
      "\n",
      "  [[6.24456850e-04]\n",
      "   [1.08150482e-04]\n",
      "   [2.47438293e-04]\n",
      "   ...\n",
      "   [5.39650064e-05]\n",
      "   [3.85099811e-05]\n",
      "   [8.14258819e-04]]]\n",
      "\n",
      "\n",
      " [[[1.48652646e-08]\n",
      "   [3.44170942e-10]\n",
      "   [6.02744388e-09]\n",
      "   ...\n",
      "   [6.91686083e-11]\n",
      "   [1.13866742e-10]\n",
      "   [1.04540973e-07]]\n",
      "\n",
      "  [[2.32854153e-10]\n",
      "   [3.80382184e-11]\n",
      "   [3.82780696e-09]\n",
      "   ...\n",
      "   [2.03191616e-10]\n",
      "   [1.02481834e-11]\n",
      "   [5.26239674e-09]]\n",
      "\n",
      "  [[6.65035138e-09]\n",
      "   [2.40033815e-09]\n",
      "   [5.84549616e-06]\n",
      "   ...\n",
      "   [4.03388594e-06]\n",
      "   [1.00019051e-08]\n",
      "   [1.85171245e-07]]\n",
      "\n",
      "  ...\n",
      "\n",
      "  [[5.65400633e-08]\n",
      "   [2.59323301e-08]\n",
      "   [6.91867126e-06]\n",
      "   ...\n",
      "   [2.89026739e-05]\n",
      "   [1.30720110e-07]\n",
      "   [1.55413500e-06]]\n",
      "\n",
      "  [[3.89579169e-09]\n",
      "   [2.34422315e-10]\n",
      "   [3.76882383e-08]\n",
      "   ...\n",
      "   [5.01196995e-09]\n",
      "   [8.24792123e-10]\n",
      "   [1.54949106e-07]]\n",
      "\n",
      "  [[8.40498160e-07]\n",
      "   [5.91599729e-08]\n",
      "   [8.55943370e-07]\n",
      "   ...\n",
      "   [2.27177694e-07]\n",
      "   [5.52233637e-08]\n",
      "   [8.35162882e-06]]]\n",
      "\n",
      "\n",
      " [[[1.10416440e-04]\n",
      "   [9.55034557e-06]\n",
      "   [2.59507469e-05]\n",
      "   ...\n",
      "   [3.54213114e-07]\n",
      "   [2.87470493e-06]\n",
      "   [2.22974573e-04]]\n",
      "\n",
      "  [[4.17892170e-06]\n",
      "   [4.53095907e-07]\n",
      "   [2.01826606e-06]\n",
      "   ...\n",
      "   [2.35904078e-08]\n",
      "   [1.72299124e-07]\n",
      "   [2.21908394e-05]]\n",
      "\n",
      "  [[3.08900258e-06]\n",
      "   [2.03847137e-07]\n",
      "   [3.23629888e-06]\n",
      "   ...\n",
      "   [2.96257081e-08]\n",
      "   [2.40422793e-07]\n",
      "   [2.56421354e-05]]\n",
      "\n",
      "  ...\n",
      "\n",
      "  [[5.83174824e-07]\n",
      "   [4.06857525e-09]\n",
      "   [1.38677556e-10]\n",
      "   ...\n",
      "   [1.41096212e-09]\n",
      "   [2.66463225e-08]\n",
      "   [7.09920778e-06]]\n",
      "\n",
      "  [[1.46332877e-06]\n",
      "   [2.14661231e-08]\n",
      "   [1.57926650e-08]\n",
      "   ...\n",
      "   [6.84237556e-09]\n",
      "   [1.03837294e-07]\n",
      "   [1.21979338e-05]]\n",
      "\n",
      "  [[2.11413542e-04]\n",
      "   [1.82204167e-05]\n",
      "   [2.36693886e-05]\n",
      "   ...\n",
      "   [2.89515242e-06]\n",
      "   [1.47472210e-05]\n",
      "   [4.62401862e-04]]]\n",
      "\n",
      "\n",
      " ...\n",
      "\n",
      "\n",
      " [[[9.09859227e-06]\n",
      "   [6.68818529e-07]\n",
      "   [3.83353381e-06]\n",
      "   ...\n",
      "   [1.51420494e-07]\n",
      "   [3.09658390e-07]\n",
      "   [3.04806836e-05]]\n",
      "\n",
      "  [[4.47838090e-07]\n",
      "   [8.61832135e-08]\n",
      "   [1.36201754e-06]\n",
      "   ...\n",
      "   [1.42998005e-07]\n",
      "   [3.57798946e-08]\n",
      "   [3.39817370e-06]]\n",
      "\n",
      "  [[1.85020451e-06]\n",
      "   [4.28870919e-07]\n",
      "   [4.14695205e-05]\n",
      "   ...\n",
      "   [2.53078269e-05]\n",
      "   [1.03768946e-06]\n",
      "   [1.65839592e-05]]\n",
      "\n",
      "  ...\n",
      "\n",
      "  [[5.76591810e-06]\n",
      "   [1.82711858e-06]\n",
      "   [5.91959542e-05]\n",
      "   ...\n",
      "   [6.42281593e-05]\n",
      "   [1.55169141e-06]\n",
      "   [1.92304869e-05]]\n",
      "\n",
      "  [[1.69961572e-06]\n",
      "   [1.65899252e-07]\n",
      "   [3.42778958e-06]\n",
      "   ...\n",
      "   [3.30090813e-07]\n",
      "   [8.78289015e-08]\n",
      "   [5.26965414e-06]]\n",
      "\n",
      "  [[8.35863029e-05]\n",
      "   [1.10227029e-05]\n",
      "   [4.86891367e-05]\n",
      "   ...\n",
      "   [1.03538305e-05]\n",
      "   [3.71422107e-06]\n",
      "   [1.40096468e-04]]]\n",
      "\n",
      "\n",
      " [[[2.16189232e-02]\n",
      "   [4.86051431e-03]\n",
      "   [3.96830635e-03]\n",
      "   ...\n",
      "   [1.78107445e-03]\n",
      "   [2.60376488e-03]\n",
      "   [2.09599454e-02]]\n",
      "\n",
      "  [[6.77987700e-03]\n",
      "   [1.13046984e-03]\n",
      "   [5.03034331e-04]\n",
      "   ...\n",
      "   [2.31953425e-04]\n",
      "   [4.52784996e-04]\n",
      "   [4.89000045e-03]]\n",
      "\n",
      "  [[4.93602455e-03]\n",
      "   [4.00434918e-04]\n",
      "   [1.03474820e-04]\n",
      "   ...\n",
      "   [2.37090153e-05]\n",
      "   [1.21436125e-04]\n",
      "   [3.03014042e-03]]\n",
      "\n",
      "  ...\n",
      "\n",
      "  [[2.80160748e-05]\n",
      "   [5.58823240e-06]\n",
      "   [1.56744154e-05]\n",
      "   ...\n",
      "   [9.23148278e-08]\n",
      "   [1.93896085e-06]\n",
      "   [2.66184332e-04]]\n",
      "\n",
      "  [[3.77029122e-04]\n",
      "   [7.42602715e-05]\n",
      "   [2.36522697e-04]\n",
      "   ...\n",
      "   [1.97432564e-05]\n",
      "   [4.55536028e-05]\n",
      "   [1.03063427e-03]]\n",
      "\n",
      "  [[1.01889474e-02]\n",
      "   [3.36252572e-03]\n",
      "   [5.23996213e-03]\n",
      "   ...\n",
      "   [1.22059695e-03]\n",
      "   [1.25197263e-03]\n",
      "   [1.04972264e-02]]]\n",
      "\n",
      "\n",
      " [[[1.05278660e-03]\n",
      "   [1.14861941e-04]\n",
      "   [1.44391990e-04]\n",
      "   ...\n",
      "   [1.61706394e-05]\n",
      "   [3.31512856e-05]\n",
      "   [1.15026010e-03]]\n",
      "\n",
      "  [[1.45723272e-04]\n",
      "   [1.55558209e-05]\n",
      "   [1.25878087e-05]\n",
      "   ...\n",
      "   [2.75642128e-06]\n",
      "   [4.39110954e-06]\n",
      "   [1.81234136e-04]]\n",
      "\n",
      "  [[1.51427565e-04]\n",
      "   [7.89498336e-06]\n",
      "   [5.44248542e-06]\n",
      "   ...\n",
      "   [2.22880271e-06]\n",
      "   [6.86649310e-06]\n",
      "   [3.13754601e-04]]\n",
      "\n",
      "  ...\n",
      "\n",
      "  [[1.08359563e-06]\n",
      "   [2.12794049e-07]\n",
      "   [2.12385248e-06]\n",
      "   ...\n",
      "   [3.71237352e-09]\n",
      "   [1.18322248e-07]\n",
      "   [3.63021063e-05]]\n",
      "\n",
      "  [[1.51652475e-05]\n",
      "   [1.98151633e-06]\n",
      "   [1.73859098e-05]\n",
      "   ...\n",
      "   [7.27426084e-07]\n",
      "   [2.05359879e-06]\n",
      "   [1.34937698e-04]]\n",
      "\n",
      "  [[1.04461634e-03]\n",
      "   [2.36250678e-04]\n",
      "   [6.05686510e-04]\n",
      "   ...\n",
      "   [8.69145515e-05]\n",
      "   [1.03040991e-04]\n",
      "   [1.98817626e-03]]]]\n"
     ]
    },
    {
     "data": {
      "image/png": "[encoded data removed]",
      "text/plain": [
       "<Figure size 800x800 with 1 Axes>"
      ]
     },
     "metadata": {},
     "output_type": "display_data"
    },
    {
     "name": "stdout",
     "output_type": "stream",
     "text": [
      "example labels size is  (5000,)\n"
     ]
    },
    {
     "name": "stderr",
     "output_type": "stream",
     "text": [
      "/var/folders/41/2bf_791514sdbsc_wcrmr5g80000gn/T/ipykernel_97802/3090518175.py:21: UserWarning: No data for colormapping provided via 'c'. Parameters 'cmap' will be ignored\n",
      "  plt.scatter(\n"
     ]
    },
    {
     "data": {
      "image/png": "[encoded data removed]",
      "text/plain": [
       "<Figure size 800x800 with 2 Axes>"
      ]
     },
     "metadata": {},
     "output_type": "display_data"
    }
   ],
   "source": [
    "embeddings = autoencoder.predict(example_images)\n",
    "import matplotlib.pyplot as plt\n",
    "\n",
    "# Some examples of the embeddings\n",
    "print(embeddings[:10])\n",
    "\n",
    "\n",
    "# Show the encoded points in 2D space\n",
    "figsize = 8\n",
    "\n",
    "plt.figure(figsize=(figsize, figsize))\n",
    "plt.scatter(embeddings[:, 0], embeddings[:, 1], c=\"black\", alpha=0.5, s=3)\n",
    "plt.show()\n",
    "\n",
    "# Colour the embeddings by their label (clothing type - see table)\n",
    "example_labels = y_test[:n_to_predict]\n",
    "print(\"example labels size is \", example_labels.shape)\n",
    "\n",
    "figsize = 8\n",
    "plt.figure(figsize=(figsize, figsize))\n",
    "plt.scatter(\n",
    "    embeddings[:, 0],\n",
    "    embeddings[:, 1],\n",
    "    cmap=\"rainbow\",\n",
    "    # c=example_labels,\n",
    "    alpha=0.8,\n",
    "    s=3,\n",
    ")\n",
    "plt.colorbar()\n",
    "plt.show()\n",
    "\n",
    "\n"
   ]
  },
  {
   "cell_type": "markdown",
   "metadata": {},
   "source": [
    "## Generate Images using the decoder"
   ]
  },
  {
   "cell_type": "code",
   "execution_count": 78,
   "metadata": {},
   "outputs": [
    {
     "name": "stdout",
     "output_type": "stream",
     "text": [
      "mins shape is  (32, 32, 1)\n",
      "maxs shape is  (32, 32, 1)\n",
      "size will be computed as 32 by 2\n"
     ]
    },
    {
     "ename": "ValueError",
     "evalue": "in user code:\n\n    File \"/opt/homebrew/lib/python3.9/site-packages/keras/src/engine/training.py\", line 2341, in predict_function  *\n        return step_function(self, iterator)\n    File \"/opt/homebrew/lib/python3.9/site-packages/keras/src/engine/training.py\", line 2327, in step_function  **\n        outputs = model.distribute_strategy.run(run_step, args=(data,))\n    File \"/opt/homebrew/lib/python3.9/site-packages/keras/src/engine/training.py\", line 2315, in run_step  **\n        outputs = model.predict_step(data)\n    File \"/opt/homebrew/lib/python3.9/site-packages/keras/src/engine/training.py\", line 2283, in predict_step\n        return self(x, training=False)\n    File \"/opt/homebrew/lib/python3.9/site-packages/keras/src/utils/traceback_utils.py\", line 70, in error_handler\n        raise e.with_traceback(filtered_tb) from None\n    File \"/opt/homebrew/lib/python3.9/site-packages/keras/src/engine/input_spec.py\", line 298, in assert_input_compatibility\n        raise ValueError(\n\n    ValueError: Input 0 of layer \"model_17\" is incompatible with the layer: expected shape=(None, 2), found shape=(32, 32, 2)\n",
     "output_type": "error",
     "traceback": [
      "\u001b[0;31m---------------------------------------------------------------------------\u001b[0m",
      "\u001b[0;31mValueError\u001b[0m                                Traceback (most recent call last)",
      "Cell \u001b[0;32mIn[78], line 16\u001b[0m\n\u001b[1;32m     11\u001b[0m sample \u001b[38;5;241m=\u001b[39m np\u001b[38;5;241m.\u001b[39mrandom\u001b[38;5;241m.\u001b[39muniform(\n\u001b[1;32m     12\u001b[0m     mins, maxs, size\u001b[38;5;241m=\u001b[39m(grid_width \u001b[38;5;241m*\u001b[39m grid_height, grid_width \u001b[38;5;241m*\u001b[39m grid_height, EMBEDDING_DIM)\n\u001b[1;32m     13\u001b[0m )\n\u001b[1;32m     15\u001b[0m \u001b[38;5;66;03m# Decode the sampled points\u001b[39;00m\n\u001b[0;32m---> 16\u001b[0m reconstructions \u001b[38;5;241m=\u001b[39m \u001b[43mdecoder\u001b[49m\u001b[38;5;241;43m.\u001b[39;49m\u001b[43mpredict\u001b[49m\u001b[43m(\u001b[49m\u001b[43msample\u001b[49m\u001b[43m)\u001b[49m\n",
      "File \u001b[0;32m/opt/homebrew/lib/python3.9/site-packages/keras/src/utils/traceback_utils.py:70\u001b[0m, in \u001b[0;36mfilter_traceback.<locals>.error_handler\u001b[0;34m(*args, **kwargs)\u001b[0m\n\u001b[1;32m     67\u001b[0m     filtered_tb \u001b[38;5;241m=\u001b[39m _process_traceback_frames(e\u001b[38;5;241m.\u001b[39m__traceback__)\n\u001b[1;32m     68\u001b[0m     \u001b[38;5;66;03m# To get the full stack trace, call:\u001b[39;00m\n\u001b[1;32m     69\u001b[0m     \u001b[38;5;66;03m# `tf.debugging.disable_traceback_filtering()`\u001b[39;00m\n\u001b[0;32m---> 70\u001b[0m     \u001b[38;5;28;01mraise\u001b[39;00m e\u001b[38;5;241m.\u001b[39mwith_traceback(filtered_tb) \u001b[38;5;28;01mfrom\u001b[39;00m \u001b[38;5;28;01mNone\u001b[39;00m\n\u001b[1;32m     71\u001b[0m \u001b[38;5;28;01mfinally\u001b[39;00m:\n\u001b[1;32m     72\u001b[0m     \u001b[38;5;28;01mdel\u001b[39;00m filtered_tb\n",
      "File \u001b[0;32m/var/folders/41/2bf_791514sdbsc_wcrmr5g80000gn/T/__autograph_generated_filec8aysw16.py:15\u001b[0m, in \u001b[0;36mouter_factory.<locals>.inner_factory.<locals>.tf__predict_function\u001b[0;34m(iterator)\u001b[0m\n\u001b[1;32m     13\u001b[0m \u001b[38;5;28;01mtry\u001b[39;00m:\n\u001b[1;32m     14\u001b[0m     do_return \u001b[38;5;241m=\u001b[39m \u001b[38;5;28;01mTrue\u001b[39;00m\n\u001b[0;32m---> 15\u001b[0m     retval_ \u001b[38;5;241m=\u001b[39m ag__\u001b[38;5;241m.\u001b[39mconverted_call(ag__\u001b[38;5;241m.\u001b[39mld(step_function), (ag__\u001b[38;5;241m.\u001b[39mld(\u001b[38;5;28mself\u001b[39m), ag__\u001b[38;5;241m.\u001b[39mld(iterator)), \u001b[38;5;28;01mNone\u001b[39;00m, fscope)\n\u001b[1;32m     16\u001b[0m \u001b[38;5;28;01mexcept\u001b[39;00m:\n\u001b[1;32m     17\u001b[0m     do_return \u001b[38;5;241m=\u001b[39m \u001b[38;5;28;01mFalse\u001b[39;00m\n",
      "\u001b[0;31mValueError\u001b[0m: in user code:\n\n    File \"/opt/homebrew/lib/python3.9/site-packages/keras/src/engine/training.py\", line 2341, in predict_function  *\n        return step_function(self, iterator)\n    File \"/opt/homebrew/lib/python3.9/site-packages/keras/src/engine/training.py\", line 2327, in step_function  **\n        outputs = model.distribute_strategy.run(run_step, args=(data,))\n    File \"/opt/homebrew/lib/python3.9/site-packages/keras/src/engine/training.py\", line 2315, in run_step  **\n        outputs = model.predict_step(data)\n    File \"/opt/homebrew/lib/python3.9/site-packages/keras/src/engine/training.py\", line 2283, in predict_step\n        return self(x, training=False)\n    File \"/opt/homebrew/lib/python3.9/site-packages/keras/src/utils/traceback_utils.py\", line 70, in error_handler\n        raise e.with_traceback(filtered_tb) from None\n    File \"/opt/homebrew/lib/python3.9/site-packages/keras/src/engine/input_spec.py\", line 298, in assert_input_compatibility\n        raise ValueError(\n\n    ValueError: Input 0 of layer \"model_17\" is incompatible with the layer: expected shape=(None, 2), found shape=(32, 32, 2)\n"
     ]
    }
   ],
   "source": [
    "# Get the range of the existing embeddings\n",
    "mins, maxs = np.min(embeddings, axis=0), np.max(embeddings, axis=0)\n",
    "\n",
    "print(\"mins shape is \", mins.shape)\n",
    "print(\"maxs shape is \", maxs.shape)\n",
    "\n",
    "# Sample some points in the latent space\n",
    "grid_width, grid_height = (8, 4)\n",
    "print(\"size will be computed as %d by %d\" % (grid_height * grid_width, EMBEDDING_DIM))\n",
    "\n",
    "sample = np.random.uniform(\n",
    "    mins, maxs, size=(grid_width * grid_height, grid_width * grid_height, EMBEDDING_DIM)\n",
    ")\n",
    "\n",
    "# Decode the sampled points\n",
    "reconstructions = decoder.predict(sample)\n",
    "\n"
   ]
  }
 ],
 "metadata": {
  "kernelspec": {
   "display_name": "Python 3",
   "language": "python",
   "name": "python3"
  },
  "language_info": {
   "codemirror_mode": {
    "name": "ipython",
    "version": 3
   },
   "file_extension": ".py",
   "mimetype": "text/x-python",
   "name": "python",
   "nbconvert_exporter": "python",
   "pygments_lexer": "ipython3",
   "version": "3.9.18"
  }
 },
 "nbformat": 4,
 "nbformat_minor": 2
}
