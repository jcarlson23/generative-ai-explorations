{
 "cells": [
  {
   "cell_type": "markdown",
   "metadata": {},
   "source": [
    "# White box models\n",
    "* Trying to figure out what makes white-box transparent and *interpretable*.\n",
    "* Intepretting simpel models, such as linear regression and decision trees.\n",
    "* What GAMs (Generalized Additive Models) are, and why they can be highly predictive \n",
    "    as well as predictive.\n",
    "* How to implement and interpret a GAM.\n",
    "* The differences between black box models."
   ]
  },
  {
   "cell_type": "markdown",
   "metadata": {},
   "source": [
    "#### Three white box models (and a bonus)\n",
    "1. Linear Regression (used within ML for Regression)\n",
    "2. Decision Trees (used for regression for classification)\n",
    "3. GAMs (used for regression for classification)\n",
    "4. Logistic Regression -- (used for regression for classification)\n",
    "\n",
    "These models are inherently transparent and the important charactersitics that make\n",
    "them transparent:\n",
    "* The algorithm being used is straightforward to understand, and we can clearly understand how an input feature is mapped to an output or target variable.\n",
    "* We can identify the most important features to predict the target variable."
   ]
  }
 ],
 "metadata": {
  "language_info": {
   "name": "python"
  }
 },
 "nbformat": 4,
 "nbformat_minor": 2
}
