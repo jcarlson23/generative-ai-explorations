{
 "cells": [
  {
   "cell_type": "code",
   "execution_count": 1,
   "metadata": {},
   "outputs": [],
   "source": [
    "%load_ext autoreload\n",
    "%autoreload 2\n",
    "\n",
    "import numpy as np\n",
    "import json\n",
    "import re\n",
    "import string\n",
    "\n",
    "import tensorflow as tf\n",
    "from tensorflow.keras import layers, models, callbacks, losses"
   ]
  },
  {
   "cell_type": "markdown",
   "metadata": {},
   "source": [
    "This is all about Long Term Short Memory\n",
    "\n",
    "It's time to turn our attention to autoregressive models—a family of models that simplify the generative modeling problem by treating it as a sequential process. Autoregressive models condition predictions on previous values in the sequence, rather than on a latent random variable. Therefore, they attempt to explicitly model the data-generating distribution rather than an approximation of it (as in the case of VAEs)."
   ]
  },
  {
   "cell_type": "code",
   "execution_count": 85,
   "metadata": {},
   "outputs": [],
   "source": [
    "VOCAB_SIZE = 10000\n",
    "MAX_LEN = 200\n",
    "EMBEDDING_DIM = 100\n",
    "N_UNITS = 128\n",
    "VALIDATION_SPLIT = 0.2\n",
    "SEED = 42\n",
    "LOAD_MODEL = False\n",
    "BATCH_SIZE = 32\n",
    "EPOCHS = 25"
   ]
  },
  {
   "cell_type": "code",
   "execution_count": 86,
   "metadata": {},
   "outputs": [],
   "source": [
    "# Load the full dataset\n",
    "with open(\"recipes/full_format_recipes.json\") as json_data:\n",
    "    recipe_data = json.load(json_data)"
   ]
  },
  {
   "cell_type": "code",
   "execution_count": 87,
   "metadata": {},
   "outputs": [],
   "source": [
    "# Filter the dataset\n",
    "filtered_data = [\n",
    "    \"Recipe for \" + x[\"title\"] + \" | \" + \" \".join(x[\"directions\"])\n",
    "    for x in recipe_data\n",
    "    if \"title\" in x\n",
    "    and x[\"title\"] is not None\n",
    "    and \"directions\" in x\n",
    "    and x[\"directions\"] is not None\n",
    "]"
   ]
  },
  {
   "cell_type": "code",
   "execution_count": 88,
   "metadata": {},
   "outputs": [
    {
     "name": "stdout",
     "output_type": "stream",
     "text": [
      "20111 recipes loaded\n",
      "Recipe for Ham Persillade with Mustard Potato Salad and Mashed Peas  | Chop enough parsley leaves to measure 1 tablespoon; reserve. Chop remaining leaves and stems and simmer with broth and garlic in a small saucepan, covered, 5 minutes. Meanwhile, sprinkle gelatin over water in a medium bowl and let soften 1 minute. Strain broth through a fine-mesh sieve into bowl with gelatin and stir to dissolve. Season with salt and pepper. Set bowl in an ice bath and cool to room temperature, stirring. Toss ham with reserved parsley and divide among jars. Pour gelatin on top and chill until set, at least 1 hour. Whisk together mayonnaise, mustard, vinegar, 1/4 teaspoon salt, and 1/4 teaspoon pepper in a large bowl. Stir in celery, cornichons, and potatoes. Pulse peas with marjoram, oil, 1/2 teaspoon pepper, and 1/4 teaspoon salt in a food processor to a coarse mash. Layer peas, then potato salad, over ham.\n"
     ]
    }
   ],
   "source": [
    "# Count the recipes\n",
    "n_recipes = len(filtered_data)\n",
    "print(f\"{n_recipes} recipes loaded\")\n",
    "\n",
    "example = filtered_data[9]\n",
    "print(example)"
   ]
  },
  {
   "cell_type": "markdown",
   "metadata": {},
   "source": [
    "## Tokenize the recipes\n"
   ]
  },
  {
   "cell_type": "code",
   "execution_count": 89,
   "metadata": {},
   "outputs": [
    {
     "name": "stdout",
     "output_type": "stream",
     "text": [
      "0: \n",
      "1: [UNK]\n",
      "2: .\n",
      "3: ,\n",
      "4: and\n",
      "5: to\n",
      "6: in\n",
      "7: the\n",
      "8: with\n",
      "9: a\n",
      "[  26   16  557    1    8  298  335  189    4 1054  494   27  332  228\n",
      "  235  262    5  594   11  133   22  311    2  332   45  262    4  671\n",
      "    4   70    8  171    4   81    6    9   65   80    3  121    3   59\n",
      "   12    2  299    3   88  650   20   39    6    9   29   21    4   67\n",
      "  529   11  164    2  320  171  102    9  374   13  643  306   25   21\n",
      "    8  650    4   42    5  931    2   63    8   24    4   33    2  114\n",
      "   21    6  178  181 1245    4   60    5  140  112    3   48    2  117\n",
      "  557    8  285  235    4  200  292  980    2  107  650   28   72    4\n",
      "  108   10  114    3   57  204   11  172    2   73  110  482    3  298\n",
      "    3  190    3   11   23   32  142   24    3    4   11   23   32  142\n",
      "   33    6    9   30   21    2   42    6  353    3 3224    3    4  150\n",
      "    2  437  494    8 1281    3   37    3   11   23   15  142   33    3\n",
      "    4   11   23   32  142   24    6    9  291  188    5    9  412  572\n",
      "    2  230  494    3   46  335  189    3   20  557    2    0    0    0\n",
      "    0    0    0    0    0]\n"
     ]
    },
    {
     "name": "stderr",
     "output_type": "stream",
     "text": [
      "2024-03-29 08:36:03.632638: W tensorflow/core/framework/local_rendezvous.cc:404] Local rendezvous is aborting with status: OUT_OF_RANGE: End of sequence\n"
     ]
    }
   ],
   "source": [
    "# Pad the punctuation, to treat them as separate 'words'\n",
    "def pad_punctuation(s):\n",
    "    s = re.sub(f\"([{string.punctuation}])\", r\" \\1 \", s)\n",
    "    s = re.sub(\" +\", \" \", s)\n",
    "    return s\n",
    "\n",
    "\n",
    "text_data = [pad_punctuation(x) for x in filtered_data]\n",
    "\n",
    "# Display an example of a recipe\n",
    "example_data = text_data[9]\n",
    "example_data\n",
    "\n",
    "# Convert to a Tensorflow Dataset\n",
    "text_ds = (\n",
    "    tf.data.Dataset.from_tensor_slices(text_data)\n",
    "    .batch(BATCH_SIZE)\n",
    "    .shuffle(1000)\n",
    ")\n",
    "\n",
    "# Create a vectorisation layer\n",
    "vectorize_layer = layers.TextVectorization(\n",
    "    standardize=\"lower\",\n",
    "    max_tokens=VOCAB_SIZE,\n",
    "    output_mode=\"int\",\n",
    "    output_sequence_length=MAX_LEN + 1,\n",
    ")\n",
    "\n",
    "# Adapt the layer to the training set\n",
    "vectorize_layer.adapt(text_ds)\n",
    "vocab = vectorize_layer.get_vocabulary()\n",
    "\n",
    "# Display some token:word mappings\n",
    "for i, word in enumerate(vocab[:10]):\n",
    "    print(f\"{i}: {word}\")\n",
    "\n",
    "# Display the same example converted to ints\n",
    "example_tokenised = vectorize_layer(example_data)\n",
    "print(example_tokenised.numpy())"
   ]
  },
  {
   "cell_type": "markdown",
   "metadata": {},
   "source": [
    "## Create the training set"
   ]
  },
  {
   "cell_type": "code",
   "execution_count": 90,
   "metadata": {},
   "outputs": [],
   "source": [
    "# Create the training set of recipes and the same text shifted by one word\n",
    "def prepare_inputs(text):\n",
    "    text = tf.expand_dims(text, -1)\n",
    "    tokenized_sentences = vectorize_layer(text)\n",
    "    x = tokenized_sentences[:, :-1]\n",
    "    y = tokenized_sentences[:, 1:]\n",
    "    return x, y\n",
    "\n",
    "\n",
    "train_ds = text_ds.map(prepare_inputs)"
   ]
  },
  {
   "cell_type": "markdown",
   "metadata": {},
   "source": [
    "## Build the LTSM"
   ]
  },
  {
   "cell_type": "code",
   "execution_count": 91,
   "metadata": {},
   "outputs": [
    {
     "data": {
      "text/html": [
       "<pre style=\"white-space:pre;overflow-x:auto;line-height:normal;font-family:Menlo,'DejaVu Sans Mono',consolas,'Courier New',monospace\"><span style=\"font-weight: bold\">Model: \"functional_13\"</span>\n",
       "</pre>\n"
      ],
      "text/plain": [
       "\u001b[1mModel: \"functional_13\"\u001b[0m\n"
      ]
     },
     "metadata": {},
     "output_type": "display_data"
    },
    {
     "data": {
      "text/html": [
       "<pre style=\"white-space:pre;overflow-x:auto;line-height:normal;font-family:Menlo,'DejaVu Sans Mono',consolas,'Courier New',monospace\">┏━━━━━━━━━━━━━━━━━━━━━━━━━━━━━━━━━┳━━━━━━━━━━━━━━━━━━━━━━━━┳━━━━━━━━━━━━━━━┓\n",
       "┃<span style=\"font-weight: bold\"> Layer (type)                    </span>┃<span style=\"font-weight: bold\"> Output Shape           </span>┃<span style=\"font-weight: bold\">       Param # </span>┃\n",
       "┡━━━━━━━━━━━━━━━━━━━━━━━━━━━━━━━━━╇━━━━━━━━━━━━━━━━━━━━━━━━╇━━━━━━━━━━━━━━━┩\n",
       "│ input_layer_6 (<span style=\"color: #0087ff; text-decoration-color: #0087ff\">InputLayer</span>)      │ (<span style=\"color: #00d7ff; text-decoration-color: #00d7ff\">None</span>, <span style=\"color: #00d7ff; text-decoration-color: #00d7ff\">None</span>)           │             <span style=\"color: #00af00; text-decoration-color: #00af00\">0</span> │\n",
       "├─────────────────────────────────┼────────────────────────┼───────────────┤\n",
       "│ embedding_6 (<span style=\"color: #0087ff; text-decoration-color: #0087ff\">Embedding</span>)         │ (<span style=\"color: #00d7ff; text-decoration-color: #00d7ff\">None</span>, <span style=\"color: #00d7ff; text-decoration-color: #00d7ff\">None</span>, <span style=\"color: #00af00; text-decoration-color: #00af00\">100</span>)      │     <span style=\"color: #00af00; text-decoration-color: #00af00\">1,000,000</span> │\n",
       "├─────────────────────────────────┼────────────────────────┼───────────────┤\n",
       "│ lstm_6 (<span style=\"color: #0087ff; text-decoration-color: #0087ff\">LSTM</span>)                   │ (<span style=\"color: #00d7ff; text-decoration-color: #00d7ff\">None</span>, <span style=\"color: #00d7ff; text-decoration-color: #00d7ff\">None</span>, <span style=\"color: #00af00; text-decoration-color: #00af00\">128</span>)      │       <span style=\"color: #00af00; text-decoration-color: #00af00\">117,248</span> │\n",
       "├─────────────────────────────────┼────────────────────────┼───────────────┤\n",
       "│ dense_6 (<span style=\"color: #0087ff; text-decoration-color: #0087ff\">Dense</span>)                 │ (<span style=\"color: #00d7ff; text-decoration-color: #00d7ff\">None</span>, <span style=\"color: #00d7ff; text-decoration-color: #00d7ff\">None</span>, <span style=\"color: #00af00; text-decoration-color: #00af00\">10000</span>)    │     <span style=\"color: #00af00; text-decoration-color: #00af00\">1,290,000</span> │\n",
       "└─────────────────────────────────┴────────────────────────┴───────────────┘\n",
       "</pre>\n"
      ],
      "text/plain": [
       "┏━━━━━━━━━━━━━━━━━━━━━━━━━━━━━━━━━┳━━━━━━━━━━━━━━━━━━━━━━━━┳━━━━━━━━━━━━━━━┓\n",
       "┃\u001b[1m \u001b[0m\u001b[1mLayer (type)                   \u001b[0m\u001b[1m \u001b[0m┃\u001b[1m \u001b[0m\u001b[1mOutput Shape          \u001b[0m\u001b[1m \u001b[0m┃\u001b[1m \u001b[0m\u001b[1m      Param #\u001b[0m\u001b[1m \u001b[0m┃\n",
       "┡━━━━━━━━━━━━━━━━━━━━━━━━━━━━━━━━━╇━━━━━━━━━━━━━━━━━━━━━━━━╇━━━━━━━━━━━━━━━┩\n",
       "│ input_layer_6 (\u001b[38;5;33mInputLayer\u001b[0m)      │ (\u001b[38;5;45mNone\u001b[0m, \u001b[38;5;45mNone\u001b[0m)           │             \u001b[38;5;34m0\u001b[0m │\n",
       "├─────────────────────────────────┼────────────────────────┼───────────────┤\n",
       "│ embedding_6 (\u001b[38;5;33mEmbedding\u001b[0m)         │ (\u001b[38;5;45mNone\u001b[0m, \u001b[38;5;45mNone\u001b[0m, \u001b[38;5;34m100\u001b[0m)      │     \u001b[38;5;34m1,000,000\u001b[0m │\n",
       "├─────────────────────────────────┼────────────────────────┼───────────────┤\n",
       "│ lstm_6 (\u001b[38;5;33mLSTM\u001b[0m)                   │ (\u001b[38;5;45mNone\u001b[0m, \u001b[38;5;45mNone\u001b[0m, \u001b[38;5;34m128\u001b[0m)      │       \u001b[38;5;34m117,248\u001b[0m │\n",
       "├─────────────────────────────────┼────────────────────────┼───────────────┤\n",
       "│ dense_6 (\u001b[38;5;33mDense\u001b[0m)                 │ (\u001b[38;5;45mNone\u001b[0m, \u001b[38;5;45mNone\u001b[0m, \u001b[38;5;34m10000\u001b[0m)    │     \u001b[38;5;34m1,290,000\u001b[0m │\n",
       "└─────────────────────────────────┴────────────────────────┴───────────────┘\n"
      ]
     },
     "metadata": {},
     "output_type": "display_data"
    },
    {
     "data": {
      "text/html": [
       "<pre style=\"white-space:pre;overflow-x:auto;line-height:normal;font-family:Menlo,'DejaVu Sans Mono',consolas,'Courier New',monospace\"><span style=\"font-weight: bold\"> Total params: </span><span style=\"color: #00af00; text-decoration-color: #00af00\">2,407,248</span> (9.18 MB)\n",
       "</pre>\n"
      ],
      "text/plain": [
       "\u001b[1m Total params: \u001b[0m\u001b[38;5;34m2,407,248\u001b[0m (9.18 MB)\n"
      ]
     },
     "metadata": {},
     "output_type": "display_data"
    },
    {
     "data": {
      "text/html": [
       "<pre style=\"white-space:pre;overflow-x:auto;line-height:normal;font-family:Menlo,'DejaVu Sans Mono',consolas,'Courier New',monospace\"><span style=\"font-weight: bold\"> Trainable params: </span><span style=\"color: #00af00; text-decoration-color: #00af00\">2,407,248</span> (9.18 MB)\n",
       "</pre>\n"
      ],
      "text/plain": [
       "\u001b[1m Trainable params: \u001b[0m\u001b[38;5;34m2,407,248\u001b[0m (9.18 MB)\n"
      ]
     },
     "metadata": {},
     "output_type": "display_data"
    },
    {
     "data": {
      "text/html": [
       "<pre style=\"white-space:pre;overflow-x:auto;line-height:normal;font-family:Menlo,'DejaVu Sans Mono',consolas,'Courier New',monospace\"><span style=\"font-weight: bold\"> Non-trainable params: </span><span style=\"color: #00af00; text-decoration-color: #00af00\">0</span> (0.00 B)\n",
       "</pre>\n"
      ],
      "text/plain": [
       "\u001b[1m Non-trainable params: \u001b[0m\u001b[38;5;34m0\u001b[0m (0.00 B)\n"
      ]
     },
     "metadata": {},
     "output_type": "display_data"
    }
   ],
   "source": [
    "inputs = layers.Input(shape=(None,), dtype=\"int32\")\n",
    "x = layers.Embedding(VOCAB_SIZE, EMBEDDING_DIM)(inputs)\n",
    "x = layers.LSTM(N_UNITS, return_sequences=True)(x)\n",
    "outputs = layers.Dense(VOCAB_SIZE, activation=\"softmax\")(x)\n",
    "lstm = models.Model(inputs, outputs)\n",
    "lstm.summary()\n",
    "\n",
    "if LOAD_MODEL:\n",
    "    # model.load_weights('./models/model')\n",
    "    lstm = models.load_model(\"./models/lstm\", compile=False)"
   ]
  },
  {
   "cell_type": "markdown",
   "metadata": {},
   "source": [
    "Time to specialize the LTSM"
   ]
  },
  {
   "cell_type": "code",
   "execution_count": 92,
   "metadata": {},
   "outputs": [],
   "source": [
    "loss_fn = losses.SparseCategoricalCrossentropy()\n",
    "lstm.compile(\"adam\", loss_fn)"
   ]
  },
  {
   "cell_type": "code",
   "execution_count": 93,
   "metadata": {},
   "outputs": [],
   "source": [
    "# Create a TextGenerator checkpoint\n",
    "class TextGenerator(callbacks.Callback):\n",
    "    def __init__(self, index_to_word, top_k=10):\n",
    "        self.index_to_word = index_to_word\n",
    "        self.word_to_index = {\n",
    "            word: index for index, word in enumerate(index_to_word)\n",
    "        }  # <1>\n",
    "\n",
    "    def sample_from(self, probs, temperature):  # <2>\n",
    "        probs = probs ** (1 / temperature)\n",
    "        probs = probs / np.sum(probs)\n",
    "        return np.random.choice(len(probs), p=probs), probs\n",
    "\n",
    "    def generate(self, start_prompt, max_tokens, temperature):\n",
    "        start_tokens = [\n",
    "            self.word_to_index.get(x, 1) for x in start_prompt.split()\n",
    "        ]  # <3>\n",
    "        sample_token = None\n",
    "        info = []\n",
    "        while len(start_tokens) < max_tokens and sample_token != 0:  # <4>\n",
    "            x = np.array([start_tokens])\n",
    "            y = self.model.predict(x, verbose=0)  # <5>\n",
    "            sample_token, probs = self.sample_from(y[0][-1], temperature)  # <6>\n",
    "            info.append({\"prompt\": start_prompt, \"word_probs\": probs})\n",
    "            start_tokens.append(sample_token)  # <7>\n",
    "            start_prompt = start_prompt + \" \" + self.index_to_word[sample_token]\n",
    "        print(f\"\\ngenerated text:\\n{start_prompt}\\n\")\n",
    "        return info\n",
    "\n",
    "    def on_epoch_end(self, epoch, logs=None):\n",
    "        self.generate(\"recipe for\", max_tokens=100, temperature=1.0)"
   ]
  },
  {
   "cell_type": "code",
   "execution_count": 94,
   "metadata": {},
   "outputs": [],
   "source": [
    "# Create a model save checkpoint\n",
    "model_checkpoint_callback = callbacks.ModelCheckpoint(\n",
    "    filepath=\"./checkpoint/checkpoint.weights.h5\",\n",
    "    save_weights_only=True,\n",
    "    save_freq=\"epoch\",\n",
    "    verbose=0,\n",
    ")\n",
    "\n",
    "tensorboard_callback = callbacks.TensorBoard(log_dir=\"./logs\")\n",
    "\n",
    "# Tokenize starting prompt\n",
    "text_generator = TextGenerator(vocab)"
   ]
  },
  {
   "cell_type": "code",
   "execution_count": 96,
   "metadata": {},
   "outputs": [
    {
     "name": "stdout",
     "output_type": "stream",
     "text": [
      "Epoch 1/25\n",
      "\u001b[1m629/629\u001b[0m \u001b[32m━━━━━━━━━━━━━━━━━━━━\u001b[0m\u001b[37m\u001b[0m \u001b[1m0s\u001b[0m 314ms/step - loss: 1.5393\n",
      "generated text:\n",
      "recipe for apple chunks with thyme sauce | cook butter 1 / 2 cup water and 3 / 4 cup water in small saucepan over medium - high heat until melted and lightly chicken dry , about 10 minutes . add minced fresh dill and garlic to skillet ; sauté 4 minutes . add eggs 1 at a time , stir until melted . stir in half and raisins . cover and refrigerate at least 2 hours . ( can be made 1 day ahead . cover and cook on medium - low heat . ) simmer 10 minutes .\n",
      "\n",
      "\u001b[1m629/629\u001b[0m \u001b[32m━━━━━━━━━━━━━━━━━━━━\u001b[0m\u001b[37m\u001b[0m \u001b[1m200s\u001b[0m 318ms/step - loss: 1.5393\n",
      "Epoch 2/25\n",
      "\u001b[1m629/629\u001b[0m \u001b[32m━━━━━━━━━━━━━━━━━━━━\u001b[0m\u001b[37m\u001b[0m \u001b[1m0s\u001b[0m 313ms/step - loss: 1.5282\n",
      "generated text:\n",
      "recipe for instant - oats dough | beat together flour , cornmeal , and sugar and set aside . in a chill pan , stirring occasionally , until soft peaks form . place in a bowl and prick hungarian pepper , beginning to form a package . cut off half and ends of overhang under and crimp edge pans . prick crust on baking sheet . bake shell 10 minutes . \n",
      "\n",
      "\u001b[1m629/629\u001b[0m \u001b[32m━━━━━━━━━━━━━━━━━━━━\u001b[0m\u001b[37m\u001b[0m \u001b[1m199s\u001b[0m 316ms/step - loss: 1.5282\n",
      "Epoch 3/25\n",
      "\u001b[1m629/629\u001b[0m \u001b[32m━━━━━━━━━━━━━━━━━━━━\u001b[0m\u001b[37m\u001b[0m \u001b[1m0s\u001b[0m 316ms/step - loss: 1.5149\n",
      "generated text:\n",
      "recipe for spiced rice - pear pound like bread slices with mustard vinaigrette | finely chop nuts . 3 . mix first 6 ingredients in small bowl ; set aside . melt 1 cup oil in heavy large nonstick skillet over medium heat . add onions and sautéuntil brown and just beginning to brown , stirring often , about 5 minutes . just before serving . transfer batter to medium bowl and stir in walnuts . add 1 / 2 cup ricotta mixture and toss to coat . season with salt and pepper . do ahead : can be made\n",
      "\n",
      "\u001b[1m629/629\u001b[0m \u001b[32m━━━━━━━━━━━━━━━━━━━━\u001b[0m\u001b[37m\u001b[0m \u001b[1m201s\u001b[0m 319ms/step - loss: 1.5149\n",
      "Epoch 4/25\n",
      "\u001b[1m629/629\u001b[0m \u001b[32m━━━━━━━━━━━━━━━━━━━━\u001b[0m\u001b[37m\u001b[0m \u001b[1m0s\u001b[0m 316ms/step - loss: 1.5039\n",
      "generated text:\n",
      "recipe for hashed cheese sandwiches in avocado corn salsa with caramelized onions | preheat oven to 400°f . using small sharp knife , carefully cut diagonally diagonally into 1 / 2 - inch - thick slices and arrange in a baking dish . bake in batches in middle of oven 50 minutes , or until frittata is cool and cheese skins are blistered . transfer conserve to a separate bowl , then cover and screw salads ( or at room temperature at burner as if sandwiches are tossed too also , if it ' s in thickest part ) .\n",
      "\n",
      "\u001b[1m629/629\u001b[0m \u001b[32m━━━━━━━━━━━━━━━━━━━━\u001b[0m\u001b[37m\u001b[0m \u001b[1m201s\u001b[0m 320ms/step - loss: 1.5039\n",
      "Epoch 5/25\n",
      "\u001b[1m629/629\u001b[0m \u001b[32m━━━━━━━━━━━━━━━━━━━━\u001b[0m\u001b[37m\u001b[0m \u001b[1m0s\u001b[0m 312ms/step - loss: 1.5042\n",
      "generated text:\n",
      "recipe for smoky tomato salsa | cook shallot in oil in a medium pot over medium heat , stirring occasionally , until softened , 5 - 20 minutes . add onions , thyme and caraway seeds , garlic , sage , oil and oregano . season to taste with salt and pepper ; beat in oil until very hot . season sauce to taste with salt and pepper . heat oil in a 10 - inch nonstick skillet over moderately high heat until pancetta is hot but not smoking and with it match appears on grill but batter . gently\n",
      "\n",
      "\u001b[1m629/629\u001b[0m \u001b[32m━━━━━━━━━━━━━━━━━━━━\u001b[0m\u001b[37m\u001b[0m \u001b[1m198s\u001b[0m 315ms/step - loss: 1.5042\n",
      "Epoch 6/25\n",
      "\u001b[1m629/629\u001b[0m \u001b[32m━━━━━━━━━━━━━━━━━━━━\u001b[0m\u001b[37m\u001b[0m \u001b[1m0s\u001b[0m 311ms/step - loss: 1.4959\n",
      "generated text:\n",
      "recipe for - geese gnocchi and potatoes | stir raisin whole vegetables , cream , flour , half and half , butter , cornstarch , and salt into medium bowl with 1 / 2 teaspoon pepper . scrape mixture over squash . add green onions ; toss to coat . season with salt and pepper . cook yams in all flour until just tender and deep golden brown , 3 to 4 minutes . remove from heat ; cool . using electric mixer fitted with soft , immediately stir in potato , cheese , breadcrumbs , salt and pepper .\n",
      "\n",
      "\u001b[1m629/629\u001b[0m \u001b[32m━━━━━━━━━━━━━━━━━━━━\u001b[0m\u001b[37m\u001b[0m \u001b[1m198s\u001b[0m 314ms/step - loss: 1.4959\n",
      "Epoch 7/25\n",
      "\u001b[1m629/629\u001b[0m \u001b[32m━━━━━━━━━━━━━━━━━━━━\u001b[0m\u001b[37m\u001b[0m \u001b[1m0s\u001b[0m 328ms/step - loss: 1.4810\n",
      "generated text:\n",
      "recipe for saffron pork with fennel and chiles | cut the neck fat from lamb and cover with a coarse cheesecloth . set aside . heat oil in a large pot , add sugar , and cook until translucent , 4 - 4 medium - 3 minutes . using a slotted spoon , transfer it to a large bowl . keep warm . peel the duck and use a slotted spoon to spare . set aside . meanwhile , simmer the chicken vegetables in a large pot over medium heat , skimming any foam that rises to the surface .\n",
      "\n",
      "\u001b[1m629/629\u001b[0m \u001b[32m━━━━━━━━━━━━━━━━━━━━\u001b[0m\u001b[37m\u001b[0m \u001b[1m208s\u001b[0m 331ms/step - loss: 1.4811\n",
      "Epoch 8/25\n",
      "\u001b[1m629/629\u001b[0m \u001b[32m━━━━━━━━━━━━━━━━━━━━\u001b[0m\u001b[37m\u001b[0m \u001b[1m0s\u001b[0m 318ms/step - loss: 1.4819\n",
      "generated text:\n",
      "recipe for apple , rosemary , and spiced peaches carne crackers | preheat the oven to 375°f ( 220°c / gas mark a gas inside ) of charcoal ( medium - high for gas ) and set the duck legs aside . four 8 - cm rub to form the roasting pan , brush both sides with the vegetable oil , then sprinkle with pepper ; let stand on board for 12 minutes . heat vegetable oil in a small saucepan over medium heat . add the onions , if desired , and allow the heat to medium - low\n",
      "\n",
      "\u001b[1m629/629\u001b[0m \u001b[32m━━━━━━━━━━━━━━━━━━━━\u001b[0m\u001b[37m\u001b[0m \u001b[1m202s\u001b[0m 321ms/step - loss: 1.4819\n",
      "Epoch 9/25\n",
      "\u001b[1m629/629\u001b[0m \u001b[32m━━━━━━━━━━━━━━━━━━━━\u001b[0m\u001b[37m\u001b[0m \u001b[1m0s\u001b[0m 329ms/step - loss: 1.4772\n",
      "generated text:\n",
      "recipe for sautéed red onion , vegetables , and onions | rub sea salt to coarsely chop . heat oil in a 10 - inch skillet over high heat until very hot but not smoking , then sauté escarole and carrots , stirring , until mushrooms are crisp - tender , about 3 minutes . transfer cauliflower to bowl of ice water and drain well . transfer meat to a large plate . add oil to beans and boil until liquid is reduced by half , then transfer with a slotted spoon to a bowl . heat olive oil in\n",
      "\n",
      "\u001b[1m629/629\u001b[0m \u001b[32m━━━━━━━━━━━━━━━━━━━━\u001b[0m\u001b[37m\u001b[0m \u001b[1m209s\u001b[0m 332ms/step - loss: 1.4772\n",
      "Epoch 10/25\n",
      "\u001b[1m629/629\u001b[0m \u001b[32m━━━━━━━━━━━━━━━━━━━━\u001b[0m\u001b[37m\u001b[0m \u001b[1m0s\u001b[0m 331ms/step - loss: 1.4640\n",
      "generated text:\n",
      "recipe for red sangria | combine the cranberries , dried fruit , and cucumbers in a large pitcher or pitcher ; garnish with enough hot water to cover on top of the jar . makes about 2 tablespoons . \n",
      "\n",
      "\u001b[1m629/629\u001b[0m \u001b[32m━━━━━━━━━━━━━━━━━━━━\u001b[0m\u001b[37m\u001b[0m \u001b[1m209s\u001b[0m 332ms/step - loss: 1.4640\n",
      "Epoch 11/25\n",
      "\u001b[1m629/629\u001b[0m \u001b[32m━━━━━━━━━━━━━━━━━━━━\u001b[0m\u001b[37m\u001b[0m \u001b[1m0s\u001b[0m 329ms/step - loss: 1.4741\n",
      "generated text:\n",
      "recipe for miso pudding keeps syrup | cut a very small knife into 1 / 3 - inch - thick shells , scoop out the blood dark allspice white pith from the navel oranges . scoop some pulp through a sieve into a small pitcher , finely grind in a blender with chia seeds , cinnamon , nutmeg , and salt ; let the machine and shake to extract as much more liquid as mustard as possible or small , about 30 seconds . halve each hot and for 6 cup ( packed ) for apple , 1 / 4\n",
      "\n",
      "\u001b[1m629/629\u001b[0m \u001b[32m━━━━━━━━━━━━━━━━━━━━\u001b[0m\u001b[37m\u001b[0m \u001b[1m209s\u001b[0m 333ms/step - loss: 1.4741\n",
      "Epoch 12/25\n",
      "\u001b[1m629/629\u001b[0m \u001b[32m━━━━━━━━━━━━━━━━━━━━\u001b[0m\u001b[37m\u001b[0m \u001b[1m0s\u001b[0m 333ms/step - loss: 1.4567\n",
      "generated text:\n",
      "recipe for chipotle beef spare ribs with charmoula sauce | 1 . place rice in a large resealable plastic bags . seal at least 1 1 / 2 - inch - wide , deep - dish glass . ( the lamb is easier to deep dipping ) the spice mixture can be prepared 1 hour ahead . store in 6 hours before serving . \n",
      "\n",
      "\u001b[1m629/629\u001b[0m \u001b[32m━━━━━━━━━━━━━━━━━━━━\u001b[0m\u001b[37m\u001b[0m \u001b[1m211s\u001b[0m 335ms/step - loss: 1.4567\n",
      "Epoch 13/25\n",
      "\u001b[1m629/629\u001b[0m \u001b[32m━━━━━━━━━━━━━━━━━━━━\u001b[0m\u001b[37m\u001b[0m \u001b[1m0s\u001b[0m 334ms/step - loss: 1.4569\n",
      "generated text:\n",
      "recipe for seven tangerine torte with guava , pear juices and herbs | combine strawberries , sugar , 3 / 2 cup sugar and cinnamon in processor in order to blend . gradually whisk in oil . puree 3 cups warm milk and vanilla puree until very fine . add brandy ; process until mixture is smooth ; transfer fruit to ice water ; whisk to blend . add sugar , corn syrup , and 1 cup grand marnier to vanilla extract . pour cornstarch mixture over . let cakes stand while preparing filling . remove baking sheet from oven\n",
      "\n",
      "\u001b[1m629/629\u001b[0m \u001b[32m━━━━━━━━━━━━━━━━━━━━\u001b[0m\u001b[37m\u001b[0m \u001b[1m212s\u001b[0m 337ms/step - loss: 1.4569\n",
      "Epoch 14/25\n",
      "\u001b[1m629/629\u001b[0m \u001b[32m━━━━━━━━━━━━━━━━━━━━\u001b[0m\u001b[37m\u001b[0m \u001b[1m0s\u001b[0m 331ms/step - loss: 1.4439\n",
      "generated text:\n",
      "recipe for parmesan puffs with lemon | squeeze a small amount of chard cut into julienne , roll slightly in a 1 / 2 \" - thick slices and put them in soaked 2 . 3 . brush a 9 - inch nonstick skillet with oil and vinegar . continue to cook , cake , until golden , about 2 minutes . gently pour pasta through feed tube and simmer , turning with tongs , until spinach is wilted . transfer to a serving bowl . garnish with parsley . \n",
      "\n",
      "\u001b[1m629/629\u001b[0m \u001b[32m━━━━━━━━━━━━━━━━━━━━\u001b[0m\u001b[37m\u001b[0m \u001b[1m210s\u001b[0m 334ms/step - loss: 1.4439\n",
      "Epoch 15/25\n",
      "\u001b[1m629/629\u001b[0m \u001b[32m━━━━━━━━━━━━━━━━━━━━\u001b[0m\u001b[37m\u001b[0m \u001b[1m0s\u001b[0m 334ms/step - loss: 1.4478\n",
      "generated text:\n",
      "recipe for farmer ' s date pie dough | in a very bowl , stir together flour , baking powder , baking soda , cream , vanilla , salt , and spices . stir eggs into dough with a fork and spread evenly into biscuits . crumble 1 / 2 cup boursin over each . fold edges and pressing with wooden picks lines to used twice . bake sheet until jelly is just cooked through when golden , about 30 minutes . run a pastry brush under chilled parchment paper ( about 10 minutes ) . serve scoops garnished with\n",
      "\n",
      "\u001b[1m629/629\u001b[0m \u001b[32m━━━━━━━━━━━━━━━━━━━━\u001b[0m\u001b[37m\u001b[0m \u001b[1m212s\u001b[0m 337ms/step - loss: 1.4478\n",
      "Epoch 16/25\n",
      "\u001b[1m629/629\u001b[0m \u001b[32m━━━━━━━━━━━━━━━━━━━━\u001b[0m\u001b[37m\u001b[0m \u001b[1m0s\u001b[0m 335ms/step - loss: 1.4367\n",
      "generated text:\n",
      "recipe for spaghetti with watermelon and serrano chiles | puree all ingredients in processor . using puree overnight and process until finely chopped . add 1 / 2 cup onion , vinegar , and vinegar ; blend until cheese is smooth . pour lime juice over ; spoon over and blend until heated through before serving . season with salt and toss to blend . season scallops with salt and pepper . add lettuce and bell pepper . whisk in green onions and moisten . sprinkle with cheese and sesame dressing . spoon salad onto plates . refrigerate until puffed\n",
      "\n",
      "\u001b[1m629/629\u001b[0m \u001b[32m━━━━━━━━━━━━━━━━━━━━\u001b[0m\u001b[37m\u001b[0m \u001b[1m213s\u001b[0m 339ms/step - loss: 1.4368\n",
      "Epoch 17/25\n",
      "\u001b[1m629/629\u001b[0m \u001b[32m━━━━━━━━━━━━━━━━━━━━\u001b[0m\u001b[37m\u001b[0m \u001b[1m0s\u001b[0m 310ms/step - loss: 1.4311\n",
      "generated text:\n",
      "recipe for sage and panko cheese cookies | preheat oven to 350°f . heat butter in a 5 - to 10 - quart heavy pot over moderately low heat until hot but not smoking , then sauté half of mushrooms , 1 minute . flip doesn ' t tender , then return vegetables , swirling to coat , and flatten slightly . while corn is simmering , blanch bacon in a large saucepan of simmering over moderately low heat , stirring occasionally , until well browned , 8–10 minutes . add scallion greens and coriander seeds and stir to combine\n",
      "\n",
      "\u001b[1m629/629\u001b[0m \u001b[32m━━━━━━━━━━━━━━━━━━━━\u001b[0m\u001b[37m\u001b[0m \u001b[1m197s\u001b[0m 313ms/step - loss: 1.4311\n",
      "Epoch 18/25\n",
      "\u001b[1m629/629\u001b[0m \u001b[32m━━━━━━━━━━━━━━━━━━━━\u001b[0m\u001b[37m\u001b[0m \u001b[1m0s\u001b[0m 310ms/step - loss: 1.4306\n",
      "generated text:\n",
      "recipe for honey custard with balsamic spices | toss together fruit mixture and 2 tbsp . \n",
      "\n",
      "\u001b[1m629/629\u001b[0m \u001b[32m━━━━━━━━━━━━━━━━━━━━\u001b[0m\u001b[37m\u001b[0m \u001b[1m196s\u001b[0m 311ms/step - loss: 1.4306\n",
      "Epoch 19/25\n",
      "\u001b[1m629/629\u001b[0m \u001b[32m━━━━━━━━━━━━━━━━━━━━\u001b[0m\u001b[37m\u001b[0m \u001b[1m0s\u001b[0m 301ms/step - loss: 1.4336\n",
      "generated text:\n",
      "recipe for mashed yams - and - - vegetable chicken pilaf | cook haricots verts in a large pot of boiling water , covered , for 2 minutes . drain , reserving cooking liquid . rinse squid wings and pat dry . meanwhile , coat an [UNK] \" cakes with 1 / 3 cup oyster sauce in a single layer on top , then top with beef , each side down . top chickens and pecans and add to 1 1 / 2 cups broth . season with salt and pepper to taste . let each day reaches 375°f .\n",
      "\n",
      "\u001b[1m629/629\u001b[0m \u001b[32m━━━━━━━━━━━━━━━━━━━━\u001b[0m\u001b[37m\u001b[0m \u001b[1m192s\u001b[0m 305ms/step - loss: 1.4336\n",
      "Epoch 20/25\n",
      "\u001b[1m629/629\u001b[0m \u001b[32m━━━━━━━━━━━━━━━━━━━━\u001b[0m\u001b[37m\u001b[0m \u001b[1m0s\u001b[0m 307ms/step - loss: 1.4246\n",
      "generated text:\n",
      "recipe for lamb piccata with roast | 1 . combine saffron threads , mustard , carrots , pineapple , onion , zest , eggs , rice and orange peel in a bowl , stirring only , stir 4 minutes . heat a small pot over medium heat . add the mushroom mixture , dark brown sugar , and water . reduce the heat to medium and beat with the remaining 4 cups for another 30 seconds . add the flour and salt and pepper to taste . brown the mixture , covered , 1 hour , until the bottom of\n",
      "\n",
      "\u001b[1m629/629\u001b[0m \u001b[32m━━━━━━━━━━━━━━━━━━━━\u001b[0m\u001b[37m\u001b[0m \u001b[1m195s\u001b[0m 310ms/step - loss: 1.4246\n",
      "Epoch 21/25\n",
      "\u001b[1m629/629\u001b[0m \u001b[32m━━━━━━━━━━━━━━━━━━━━\u001b[0m\u001b[37m\u001b[0m \u001b[1m0s\u001b[0m 301ms/step - loss: 1.4221\n",
      "generated text:\n",
      "recipe for spaghetti à la niçoise | in a small heavy skillet cook bacon with boiling water clinging in skillet over moderate heat until it is crisp and pull leeks through paper in a colander . add zucchini to chard and cook , stirring , until tender , 10 to 12 minutes , and stir in peas , salt , orange zest , 2 tablespoons water , 5 tablespoons puréed oil , and cream . cook over moderate heat , stirring , until thick , and beginning to melt , 6 minutes on each side . stir in parsley and\n",
      "\n",
      "\u001b[1m629/629\u001b[0m \u001b[32m━━━━━━━━━━━━━━━━━━━━\u001b[0m\u001b[37m\u001b[0m \u001b[1m192s\u001b[0m 305ms/step - loss: 1.4221\n",
      "Epoch 22/25\n",
      "\u001b[1m629/629\u001b[0m \u001b[32m━━━━━━━━━━━━━━━━━━━━\u001b[0m\u001b[37m\u001b[0m \u001b[1m0s\u001b[0m 300ms/step - loss: 1.4228\n",
      "generated text:\n",
      "recipe for ganache roast turkey with celery onions and cranberry sauce | prick outside of the thigh several times with a fork - wine and rinse well . place the turkey in lower the oven and bake 10 minutes . grill the fat in the fat over moderate heat , turning to the meaty sides for medium - rare meat , about 5 minutes . let the chiles cool , then peel back , in the fat , in a small saucepan , turning and scraping up brown bits on the bottom of the skillet . add the tequila ,\n",
      "\n",
      "\u001b[1m629/629\u001b[0m \u001b[32m━━━━━━━━━━━━━━━━━━━━\u001b[0m\u001b[37m\u001b[0m \u001b[1m191s\u001b[0m 304ms/step - loss: 1.4228\n",
      "Epoch 23/25\n",
      "\u001b[1m629/629\u001b[0m \u001b[32m━━━━━━━━━━━━━━━━━━━━\u001b[0m\u001b[37m\u001b[0m \u001b[1m0s\u001b[0m 298ms/step - loss: 1.4082\n",
      "generated text:\n",
      "recipe for chocolate - strawberry ganache | combine 3 cups whipping cream , powdered sugar , and 1 cup plus 2 tablespoons sugar in small bowl ; mix in vanilla and mascarpone . fold in apricots , raspberries , and raspberries . season to taste with salt and pepper . ( can be made 2 days ahead . cover and refrigerate . ) butter large chocolates - ice cream maker according to manufacturer ' s instructions . available at cocktails . \n",
      "\n",
      "\u001b[1m629/629\u001b[0m \u001b[32m━━━━━━━━━━━━━━━━━━━━\u001b[0m\u001b[37m\u001b[0m \u001b[1m189s\u001b[0m 301ms/step - loss: 1.4082\n",
      "Epoch 24/25\n",
      "\u001b[1m629/629\u001b[0m \u001b[32m━━━━━━━━━━━━━━━━━━━━\u001b[0m\u001b[37m\u001b[0m \u001b[1m0s\u001b[0m 295ms/step - loss: 1.4125\n",
      "generated text:\n",
      "recipe for zucchini pasta with smoked cherry and marsala | heat 1 teaspoon oil in large pot over medium - high heat . add ham and salt . sauté 5 minutes more . add broth ; bring to simmer . reduce heat to low ; cover and simmer until rice is tender and all liquid is absorbed , about 6 minutes . add parsley and salt ; season with salt and pepper . transfer to beets to drain . ladle posole into hot pot just before serving . \n",
      "\n",
      "\u001b[1m629/629\u001b[0m \u001b[32m━━━━━━━━━━━━━━━━━━━━\u001b[0m\u001b[37m\u001b[0m \u001b[1m187s\u001b[0m 298ms/step - loss: 1.4125\n",
      "Epoch 25/25\n",
      "\u001b[1m629/629\u001b[0m \u001b[32m━━━━━━━━━━━━━━━━━━━━\u001b[0m\u001b[37m\u001b[0m \u001b[1m0s\u001b[0m 304ms/step - loss: 1.4048\n",
      "generated text:\n",
      "recipe for breaded skinless eggplant cakes with garlic and garlic butter | combine crabmeat , lemon juice , remaining 1 tablespoon oil , 1 tablespoon garlic and next 4 ingredients in heavy small saucepan . heat over medium - high heat until ground spices ; turn off . pour oil mixture over ; set vegetables , cut onions into chicken . place on baking sheet . cover and let stand 30 minutes . arrange fish on top of 2 rimmed baking sheet . place chicken , skin side down , until skin is thinly rounded tablespoon and allowing any excess\n",
      "\n",
      "\u001b[1m629/629\u001b[0m \u001b[32m━━━━━━━━━━━━━━━━━━━━\u001b[0m\u001b[37m\u001b[0m \u001b[1m193s\u001b[0m 308ms/step - loss: 1.4048\n"
     ]
    },
    {
     "name": "stderr",
     "output_type": "stream",
     "text": [
      "WARNING:absl:You are saving your model as an HDF5 file via `model.save()` or `keras.saving.save_model(model)`. This file format is considered legacy. We recommend using instead the native Keras format, e.g. `model.save('my_model.keras')` or `keras.saving.save_model(model, 'my_model.keras')`. \n"
     ]
    }
   ],
   "source": [
    "\n",
    "lstm.fit(\n",
    "    train_ds,\n",
    "    epochs=EPOCHS,\n",
    "    callbacks=[model_checkpoint_callback, tensorboard_callback, text_generator],\n",
    ")\n",
    "\n",
    "\n",
    "\n",
    "# Save the final model\n",
    "lstm.save(\"./models/lstm.h5\")"
   ]
  },
  {
   "cell_type": "markdown",
   "metadata": {},
   "source": [
    "## Now, it's time to generate text."
   ]
  },
  {
   "cell_type": "code",
   "execution_count": 98,
   "metadata": {},
   "outputs": [
    {
     "name": "stdout",
     "output_type": "stream",
     "text": [
      "\n",
      "generated text:\n",
      "recipe for roasted vegetables | chop 1 / 2 cup\n",
      "\n",
      "\n",
      "PROMPT: recipe for roasted vegetables | chop 1 /\n",
      "2:   \t42.95%\n",
      "4:   \t39.1%\n",
      "3:   \t12.33%\n",
      "8:   \t3.29%\n",
      "1:   \t0.61%\n",
      "--------\n",
      "\n",
      "\n",
      "PROMPT: recipe for roasted vegetables | chop 1 / 2\n",
      "cup:   \t31.19%\n",
      "pound:   \t6.8%\n",
      "garlic:   \t6.66%\n",
      ".:   \t5.32%\n",
      "teaspoon:   \t5.01%\n",
      "--------\n",
      "\n",
      "\n",
      "generated text:\n",
      "recipe for roasted vegetables | chop 1 / 2 cup\n",
      "\n",
      "\n",
      "PROMPT: recipe for roasted vegetables | chop 1 /\n",
      "2:   \t61.47%\n",
      "4:   \t38.41%\n",
      "3:   \t0.12%\n",
      "8:   \t0.0%\n",
      "1:   \t0.0%\n",
      "--------\n",
      "\n",
      "\n",
      "PROMPT: recipe for roasted vegetables | chop 1 / 2\n",
      "cup:   \t99.87%\n",
      "pound:   \t0.05%\n",
      "garlic:   \t0.04%\n",
      ".:   \t0.01%\n",
      "teaspoon:   \t0.01%\n",
      "--------\n",
      "\n",
      "\n",
      "generated text:\n",
      "recipe for chocolate ice cream | using\n",
      "\n",
      "\n",
      "PROMPT: recipe for chocolate ice cream |\n",
      "in:   \t18.19%\n",
      "bring:   \t8.13%\n",
      "preheat:   \t8.04%\n",
      "stir:   \t6.81%\n",
      "heat:   \t6.69%\n",
      "--------\n",
      "\n",
      "\n",
      "generated text:\n",
      "recipe for chocolate ice cream | in\n",
      "\n",
      "\n",
      "PROMPT: recipe for chocolate ice cream |\n",
      "in:   \t95.04%\n",
      "bring:   \t1.7%\n",
      "preheat:   \t1.6%\n",
      "stir:   \t0.7%\n",
      "heat:   \t0.64%\n",
      "--------\n",
      "\n"
     ]
    }
   ],
   "source": [
    "def print_probs(info, vocab, top_k=5):\n",
    "    for i in info:\n",
    "        print(f\"\\nPROMPT: {i['prompt']}\")\n",
    "        word_probs = i[\"word_probs\"]\n",
    "        p_sorted = np.sort(word_probs)[::-1][:top_k]\n",
    "        i_sorted = np.argsort(word_probs)[::-1][:top_k]\n",
    "        for p, i in zip(p_sorted, i_sorted):\n",
    "            print(f\"{vocab[i]}:   \\t{np.round(100*p,2)}%\")\n",
    "        print(\"--------\\n\")\n",
    "\n",
    "info = text_generator.generate(\n",
    "    \"recipe for roasted vegetables | chop 1 /\", max_tokens=10, temperature=1.0\n",
    ")\n",
    "\n",
    "print_probs(info, vocab)\n",
    "\n",
    "info = text_generator.generate(\n",
    "    \"recipe for roasted vegetables | chop 1 /\", max_tokens=10, temperature=0.2\n",
    ")\n",
    "\n",
    "print_probs(info, vocab)\n",
    "\n",
    "info = text_generator.generate(\n",
    "    \"recipe for chocolate ice cream |\", max_tokens=7, temperature=1.0\n",
    ")\n",
    "print_probs(info, vocab)\n",
    "\n",
    "info = text_generator.generate(\n",
    "    \"recipe for chocolate ice cream |\", max_tokens=7, temperature=0.2\n",
    ")\n",
    "print_probs(info, vocab)"
   ]
  }
 ],
 "metadata": {
  "kernelspec": {
   "display_name": "Python 3",
   "language": "python",
   "name": "python3"
  },
  "language_info": {
   "codemirror_mode": {
    "name": "ipython",
    "version": 3
   },
   "file_extension": ".py",
   "mimetype": "text/x-python",
   "name": "python",
   "nbconvert_exporter": "python",
   "pygments_lexer": "ipython3",
   "version": "3.11.8"
  }
 },
 "nbformat": 4,
 "nbformat_minor": 2
}
