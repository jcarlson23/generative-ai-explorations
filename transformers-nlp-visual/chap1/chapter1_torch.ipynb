{
  "nbformat": 4,
  "nbformat_minor": 0,
  "metadata": {
    "colab": {
      "provenance": [],
      "gpuType": "T4"
    },
    "kernelspec": {
      "name": "python3",
      "display_name": "Python 3"
    },
    "language_info": {
      "name": "python"
    },
    "accelerator": "GPU"
  },
  "cells": [
    {
      "cell_type": "markdown",
      "source": [
        "Let's look at computational time complexity via a GPU."
      ],
      "metadata": {
        "id": "ZFIXwnU_c9gu"
      }
    },
    {
      "cell_type": "code",
      "source": [
        "# Pytorch version (to take advantage of the GPU)\n",
        "import torch\n",
        "import time\n",
        "\n",
        "# same parameters as for the CPU\n",
        "n = 512\n",
        "d = 512\n",
        "\n",
        "# use the GPU if available\n",
        "device = torch.device(\"cuda\" if torch.cuda.is_available() else \"cpu\")\n",
        "print(device)\n",
        "\n",
        "#define the inputs\n",
        "input_seq = torch.rand(n,d,device=device)\n",
        "\n",
        "# run the same simulation, but this on the GPU\n",
        "start_time = time.time()\n",
        "_ = torch.mm(input_seq, input_seq.t()) # assuming t() is the transpose\n",
        "\n",
        "at = time.time() - start_time\n",
        "print(f\"Self-attention computation time: {at} seconds\")\n"
      ],
      "metadata": {
        "colab": {
          "base_uri": "https://localhost:8080/"
        },
        "id": "Bu9hjik4dHhI",
        "outputId": "2691ab8c-34d8-40fc-9387-5304c754ff0a"
      },
      "execution_count": 1,
      "outputs": [
        {
          "output_type": "stream",
          "name": "stdout",
          "text": [
            "cuda\n",
            "Self-attention computation time: 0.20593857765197754 seconds\n"
          ]
        }
      ]
    },
    {
      "cell_type": "markdown",
      "source": [
        "Now, let's look at the recurrent layer"
      ],
      "metadata": {
        "id": "qqYNL4fhduVv"
      }
    },
    {
      "cell_type": "code",
      "source": [
        "# simulation of the recurrent layer\n",
        "start_time = time.time()\n",
        "hidden_state = torch.zeros(d,device=device)\n",
        "for i in range(n):\n",
        "  for j in range(n):\n",
        "    for k in range(d):\n",
        "      hidden_state[j] += input_seq[i,j] * hidden_state[k]\n",
        "      ct = time.time() - start_time\n",
        "      if ct > at * 10:\n",
        "        break\n",
        "rt = time.time() - start_time\n",
        "print(f\"Recurrent layer computation time: {rt} seconds\")"
      ],
      "metadata": {
        "colab": {
          "base_uri": "https://localhost:8080/"
        },
        "id": "hnV8-DaNd2ht",
        "outputId": "879a5f3f-f531-4373-f9ca-2c12cdf48b7b"
      },
      "execution_count": 2,
      "outputs": [
        {
          "output_type": "stream",
          "name": "stdout",
          "text": [
            "Recurrent layer computation time: 10.924416303634644 seconds\n"
          ]
        }
      ]
    },
    {
      "cell_type": "markdown",
      "source": [
        "Let's calculate the percentage of attention layer in the total time."
      ],
      "metadata": {
        "id": "za75SlopeUHn"
      }
    },
    {
      "cell_type": "code",
      "source": [
        "# calculate the total\n",
        "total = at + rt\n",
        "\n",
        "# calculate the percentage of at\n",
        "percentage_at = round( (at/total) * 100, 2)\n",
        "\n",
        "print(f\"Percentage of self-attention layer in the sum of self-attention and recurrent is : {percentage_at}\")"
      ],
      "metadata": {
        "colab": {
          "base_uri": "https://localhost:8080/"
        },
        "id": "5fzu4UmLeZlp",
        "outputId": "de8801ee-04c2-4790-94f4-9e1638223df2"
      },
      "execution_count": 4,
      "outputs": [
        {
          "output_type": "stream",
          "name": "stdout",
          "text": [
            "Percentage of self-attention layer in the sum of self-attention and recurrent is : 1.85\n"
          ]
        }
      ]
    },
    {
      "cell_type": "code",
      "source": [
        "!nvidia-smi"
      ],
      "metadata": {
        "colab": {
          "base_uri": "https://localhost:8080/"
        },
        "id": "gIFZe3Oje8jF",
        "outputId": "af9c204d-045e-4d8c-e533-c5f420a10895"
      },
      "execution_count": 5,
      "outputs": [
        {
          "output_type": "stream",
          "name": "stdout",
          "text": [
            "Tue May 21 14:08:58 2024       \n",
            "+---------------------------------------------------------------------------------------+\n",
            "| NVIDIA-SMI 535.104.05             Driver Version: 535.104.05   CUDA Version: 12.2     |\n",
            "|-----------------------------------------+----------------------+----------------------+\n",
            "| GPU  Name                 Persistence-M | Bus-Id        Disp.A | Volatile Uncorr. ECC |\n",
            "| Fan  Temp   Perf          Pwr:Usage/Cap |         Memory-Usage | GPU-Util  Compute M. |\n",
            "|                                         |                      |               MIG M. |\n",
            "|=========================================+======================+======================|\n",
            "|   0  Tesla T4                       Off | 00000000:00:04.0 Off |                    0 |\n",
            "| N/A   50C    P0              28W /  70W |    153MiB / 15360MiB |      0%      Default |\n",
            "|                                         |                      |                  N/A |\n",
            "+-----------------------------------------+----------------------+----------------------+\n",
            "                                                                                         \n",
            "+---------------------------------------------------------------------------------------+\n",
            "| Processes:                                                                            |\n",
            "|  GPU   GI   CI        PID   Type   Process name                            GPU Memory |\n",
            "|        ID   ID                                                             Usage      |\n",
            "|=======================================================================================|\n",
            "+---------------------------------------------------------------------------------------+\n"
          ]
        }
      ]
    }
  ]
}